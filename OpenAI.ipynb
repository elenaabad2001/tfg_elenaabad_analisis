{
 "cells": [
  {
   "cell_type": "code",
   "execution_count": 1,
   "id": "9fdbb582",
   "metadata": {},
   "outputs": [
    {
     "name": "stdout",
     "output_type": "stream",
     "text": [
      "Requirement already satisfied: openai in /Users/UniversidadElenaAbad/anaconda3/lib/python3.11/site-packages (0.28.1)\n",
      "Requirement already satisfied: requests>=2.20 in /Users/UniversidadElenaAbad/anaconda3/lib/python3.11/site-packages (from openai) (2.31.0)\n",
      "Requirement already satisfied: tqdm in /Users/UniversidadElenaAbad/anaconda3/lib/python3.11/site-packages (from openai) (4.65.0)\n",
      "Requirement already satisfied: aiohttp in /Users/UniversidadElenaAbad/anaconda3/lib/python3.11/site-packages (from openai) (3.8.5)\n",
      "Requirement already satisfied: charset-normalizer<4,>=2 in /Users/UniversidadElenaAbad/anaconda3/lib/python3.11/site-packages (from requests>=2.20->openai) (2.0.4)\n",
      "Requirement already satisfied: idna<4,>=2.5 in /Users/UniversidadElenaAbad/anaconda3/lib/python3.11/site-packages (from requests>=2.20->openai) (3.4)\n",
      "Requirement already satisfied: urllib3<3,>=1.21.1 in /Users/UniversidadElenaAbad/anaconda3/lib/python3.11/site-packages (from requests>=2.20->openai) (1.26.16)\n",
      "Requirement already satisfied: certifi>=2017.4.17 in /Users/UniversidadElenaAbad/anaconda3/lib/python3.11/site-packages (from requests>=2.20->openai) (2023.7.22)\n",
      "Requirement already satisfied: attrs>=17.3.0 in /Users/UniversidadElenaAbad/anaconda3/lib/python3.11/site-packages (from aiohttp->openai) (22.1.0)\n",
      "Requirement already satisfied: multidict<7.0,>=4.5 in /Users/UniversidadElenaAbad/anaconda3/lib/python3.11/site-packages (from aiohttp->openai) (6.0.2)\n",
      "Requirement already satisfied: async-timeout<5.0,>=4.0.0a3 in /Users/UniversidadElenaAbad/anaconda3/lib/python3.11/site-packages (from aiohttp->openai) (4.0.2)\n",
      "Requirement already satisfied: yarl<2.0,>=1.0 in /Users/UniversidadElenaAbad/anaconda3/lib/python3.11/site-packages (from aiohttp->openai) (1.8.1)\n",
      "Requirement already satisfied: frozenlist>=1.1.1 in /Users/UniversidadElenaAbad/anaconda3/lib/python3.11/site-packages (from aiohttp->openai) (1.3.3)\n",
      "Requirement already satisfied: aiosignal>=1.1.2 in /Users/UniversidadElenaAbad/anaconda3/lib/python3.11/site-packages (from aiohttp->openai) (1.2.0)\n",
      "Requirement already satisfied: python-dotenv in /Users/UniversidadElenaAbad/anaconda3/lib/python3.11/site-packages (0.21.0)\n",
      "Requirement already satisfied: langchain in /Users/UniversidadElenaAbad/anaconda3/lib/python3.11/site-packages (0.0.308)\n",
      "Requirement already satisfied: PyYAML>=5.3 in /Users/UniversidadElenaAbad/anaconda3/lib/python3.11/site-packages (from langchain) (6.0)\n",
      "Requirement already satisfied: SQLAlchemy<3,>=1.4 in /Users/UniversidadElenaAbad/anaconda3/lib/python3.11/site-packages (from langchain) (2.0.21)\n",
      "Requirement already satisfied: aiohttp<4.0.0,>=3.8.3 in /Users/UniversidadElenaAbad/anaconda3/lib/python3.11/site-packages (from langchain) (3.8.5)\n",
      "Requirement already satisfied: anyio<4.0 in /Users/UniversidadElenaAbad/anaconda3/lib/python3.11/site-packages (from langchain) (3.7.1)\n",
      "Requirement already satisfied: dataclasses-json<0.7,>=0.5.7 in /Users/UniversidadElenaAbad/anaconda3/lib/python3.11/site-packages (from langchain) (0.6.1)\n",
      "Requirement already satisfied: jsonpatch<2.0,>=1.33 in /Users/UniversidadElenaAbad/anaconda3/lib/python3.11/site-packages (from langchain) (1.33)\n",
      "Requirement already satisfied: langsmith<0.1.0,>=0.0.40 in /Users/UniversidadElenaAbad/anaconda3/lib/python3.11/site-packages (from langchain) (0.0.42)\n",
      "Requirement already satisfied: numpy<2,>=1 in /Users/UniversidadElenaAbad/anaconda3/lib/python3.11/site-packages (from langchain) (1.24.3)\n",
      "Requirement already satisfied: pydantic<3,>=1 in /Users/UniversidadElenaAbad/anaconda3/lib/python3.11/site-packages (from langchain) (1.10.8)\n",
      "Requirement already satisfied: requests<3,>=2 in /Users/UniversidadElenaAbad/anaconda3/lib/python3.11/site-packages (from langchain) (2.31.0)\n",
      "Requirement already satisfied: tenacity<9.0.0,>=8.1.0 in /Users/UniversidadElenaAbad/anaconda3/lib/python3.11/site-packages (from langchain) (8.2.2)\n",
      "Requirement already satisfied: attrs>=17.3.0 in /Users/UniversidadElenaAbad/anaconda3/lib/python3.11/site-packages (from aiohttp<4.0.0,>=3.8.3->langchain) (22.1.0)\n",
      "Requirement already satisfied: charset-normalizer<4.0,>=2.0 in /Users/UniversidadElenaAbad/anaconda3/lib/python3.11/site-packages (from aiohttp<4.0.0,>=3.8.3->langchain) (2.0.4)\n",
      "Requirement already satisfied: multidict<7.0,>=4.5 in /Users/UniversidadElenaAbad/anaconda3/lib/python3.11/site-packages (from aiohttp<4.0.0,>=3.8.3->langchain) (6.0.2)\n",
      "Requirement already satisfied: async-timeout<5.0,>=4.0.0a3 in /Users/UniversidadElenaAbad/anaconda3/lib/python3.11/site-packages (from aiohttp<4.0.0,>=3.8.3->langchain) (4.0.2)\n",
      "Requirement already satisfied: yarl<2.0,>=1.0 in /Users/UniversidadElenaAbad/anaconda3/lib/python3.11/site-packages (from aiohttp<4.0.0,>=3.8.3->langchain) (1.8.1)\n",
      "Requirement already satisfied: frozenlist>=1.1.1 in /Users/UniversidadElenaAbad/anaconda3/lib/python3.11/site-packages (from aiohttp<4.0.0,>=3.8.3->langchain) (1.3.3)\n",
      "Requirement already satisfied: aiosignal>=1.1.2 in /Users/UniversidadElenaAbad/anaconda3/lib/python3.11/site-packages (from aiohttp<4.0.0,>=3.8.3->langchain) (1.2.0)\n",
      "Requirement already satisfied: idna>=2.8 in /Users/UniversidadElenaAbad/anaconda3/lib/python3.11/site-packages (from anyio<4.0->langchain) (3.4)\n",
      "Requirement already satisfied: sniffio>=1.1 in /Users/UniversidadElenaAbad/anaconda3/lib/python3.11/site-packages (from anyio<4.0->langchain) (1.2.0)\n",
      "Requirement already satisfied: marshmallow<4.0.0,>=3.18.0 in /Users/UniversidadElenaAbad/anaconda3/lib/python3.11/site-packages (from dataclasses-json<0.7,>=0.5.7->langchain) (3.20.1)\n",
      "Requirement already satisfied: typing-inspect<1,>=0.4.0 in /Users/UniversidadElenaAbad/anaconda3/lib/python3.11/site-packages (from dataclasses-json<0.7,>=0.5.7->langchain) (0.9.0)\n",
      "Requirement already satisfied: jsonpointer>=1.9 in /Users/UniversidadElenaAbad/anaconda3/lib/python3.11/site-packages (from jsonpatch<2.0,>=1.33->langchain) (2.1)\n",
      "Requirement already satisfied: typing-extensions>=4.2.0 in /Users/UniversidadElenaAbad/anaconda3/lib/python3.11/site-packages (from pydantic<3,>=1->langchain) (4.7.1)\n",
      "Requirement already satisfied: urllib3<3,>=1.21.1 in /Users/UniversidadElenaAbad/anaconda3/lib/python3.11/site-packages (from requests<3,>=2->langchain) (1.26.16)\n",
      "Requirement already satisfied: certifi>=2017.4.17 in /Users/UniversidadElenaAbad/anaconda3/lib/python3.11/site-packages (from requests<3,>=2->langchain) (2023.7.22)\n",
      "Requirement already satisfied: greenlet!=0.4.17 in /Users/UniversidadElenaAbad/anaconda3/lib/python3.11/site-packages (from SQLAlchemy<3,>=1.4->langchain) (2.0.1)\n",
      "Requirement already satisfied: packaging>=17.0 in /Users/UniversidadElenaAbad/anaconda3/lib/python3.11/site-packages (from marshmallow<4.0.0,>=3.18.0->dataclasses-json<0.7,>=0.5.7->langchain) (23.1)\n",
      "Requirement already satisfied: mypy-extensions>=0.3.0 in /Users/UniversidadElenaAbad/anaconda3/lib/python3.11/site-packages (from typing-inspect<1,>=0.4.0->dataclasses-json<0.7,>=0.5.7->langchain) (1.0.0)\n",
      "Requirement already satisfied: chromadb in /Users/UniversidadElenaAbad/anaconda3/lib/python3.11/site-packages (0.4.13)\n",
      "Requirement already satisfied: requests>=2.28 in /Users/UniversidadElenaAbad/anaconda3/lib/python3.11/site-packages (from chromadb) (2.31.0)\n",
      "Requirement already satisfied: pydantic>=1.9 in /Users/UniversidadElenaAbad/anaconda3/lib/python3.11/site-packages (from chromadb) (1.10.8)\n",
      "Requirement already satisfied: chroma-hnswlib==0.7.3 in /Users/UniversidadElenaAbad/anaconda3/lib/python3.11/site-packages (from chromadb) (0.7.3)\n",
      "Requirement already satisfied: fastapi>=0.95.2 in /Users/UniversidadElenaAbad/anaconda3/lib/python3.11/site-packages (from chromadb) (0.103.2)\n",
      "Requirement already satisfied: uvicorn[standard]>=0.18.3 in /Users/UniversidadElenaAbad/anaconda3/lib/python3.11/site-packages (from chromadb) (0.23.2)\n",
      "Requirement already satisfied: posthog>=2.4.0 in /Users/UniversidadElenaAbad/anaconda3/lib/python3.11/site-packages (from chromadb) (3.0.2)\n",
      "Requirement already satisfied: typing-extensions>=4.5.0 in /Users/UniversidadElenaAbad/anaconda3/lib/python3.11/site-packages (from chromadb) (4.7.1)\n",
      "Requirement already satisfied: pulsar-client>=3.1.0 in /Users/UniversidadElenaAbad/anaconda3/lib/python3.11/site-packages (from chromadb) (3.3.0)\n",
      "Requirement already satisfied: onnxruntime>=1.14.1 in /Users/UniversidadElenaAbad/.local/lib/python3.11/site-packages (from chromadb) (1.15.1)\n",
      "Requirement already satisfied: tokenizers>=0.13.2 in /Users/UniversidadElenaAbad/anaconda3/lib/python3.11/site-packages (from chromadb) (0.13.2)\n",
      "Requirement already satisfied: pypika>=0.48.9 in /Users/UniversidadElenaAbad/anaconda3/lib/python3.11/site-packages (from chromadb) (0.48.9)\n",
      "Requirement already satisfied: tqdm>=4.65.0 in /Users/UniversidadElenaAbad/anaconda3/lib/python3.11/site-packages (from chromadb) (4.65.0)\n",
      "Requirement already satisfied: overrides>=7.3.1 in /Users/UniversidadElenaAbad/anaconda3/lib/python3.11/site-packages (from chromadb) (7.4.0)\n",
      "Requirement already satisfied: importlib-resources in /Users/UniversidadElenaAbad/anaconda3/lib/python3.11/site-packages (from chromadb) (6.1.0)\n",
      "Requirement already satisfied: bcrypt>=4.0.1 in /Users/UniversidadElenaAbad/anaconda3/lib/python3.11/site-packages (from chromadb) (4.0.1)\n",
      "Requirement already satisfied: typer>=0.9.0 in /Users/UniversidadElenaAbad/anaconda3/lib/python3.11/site-packages (from chromadb) (0.9.0)\n",
      "Requirement already satisfied: numpy>=1.22.5 in /Users/UniversidadElenaAbad/anaconda3/lib/python3.11/site-packages (from chromadb) (1.24.3)\n",
      "Requirement already satisfied: anyio<4.0.0,>=3.7.1 in /Users/UniversidadElenaAbad/anaconda3/lib/python3.11/site-packages (from fastapi>=0.95.2->chromadb) (3.7.1)\n",
      "Requirement already satisfied: starlette<0.28.0,>=0.27.0 in /Users/UniversidadElenaAbad/anaconda3/lib/python3.11/site-packages (from fastapi>=0.95.2->chromadb) (0.27.0)\n",
      "Requirement already satisfied: coloredlogs in /Users/UniversidadElenaAbad/anaconda3/lib/python3.11/site-packages (from onnxruntime>=1.14.1->chromadb) (15.0.1)\n",
      "Requirement already satisfied: flatbuffers in /Users/UniversidadElenaAbad/anaconda3/lib/python3.11/site-packages (from onnxruntime>=1.14.1->chromadb) (23.5.26)\n",
      "Requirement already satisfied: packaging in /Users/UniversidadElenaAbad/anaconda3/lib/python3.11/site-packages (from onnxruntime>=1.14.1->chromadb) (23.1)\n",
      "Requirement already satisfied: protobuf in /Users/UniversidadElenaAbad/anaconda3/lib/python3.11/site-packages (from onnxruntime>=1.14.1->chromadb) (4.24.4)\n",
      "Requirement already satisfied: sympy in /Users/UniversidadElenaAbad/anaconda3/lib/python3.11/site-packages (from onnxruntime>=1.14.1->chromadb) (1.11.1)\n",
      "Requirement already satisfied: six>=1.5 in /Users/UniversidadElenaAbad/anaconda3/lib/python3.11/site-packages (from posthog>=2.4.0->chromadb) (1.16.0)\n",
      "Requirement already satisfied: monotonic>=1.5 in /Users/UniversidadElenaAbad/anaconda3/lib/python3.11/site-packages (from posthog>=2.4.0->chromadb) (1.6)\n",
      "Requirement already satisfied: backoff>=1.10.0 in /Users/UniversidadElenaAbad/anaconda3/lib/python3.11/site-packages (from posthog>=2.4.0->chromadb) (2.2.1)\n",
      "Requirement already satisfied: python-dateutil>2.1 in /Users/UniversidadElenaAbad/anaconda3/lib/python3.11/site-packages (from posthog>=2.4.0->chromadb) (2.8.2)\n",
      "Requirement already satisfied: certifi in /Users/UniversidadElenaAbad/anaconda3/lib/python3.11/site-packages (from pulsar-client>=3.1.0->chromadb) (2023.7.22)\n",
      "Requirement already satisfied: charset-normalizer<4,>=2 in /Users/UniversidadElenaAbad/anaconda3/lib/python3.11/site-packages (from requests>=2.28->chromadb) (2.0.4)\n",
      "Requirement already satisfied: idna<4,>=2.5 in /Users/UniversidadElenaAbad/anaconda3/lib/python3.11/site-packages (from requests>=2.28->chromadb) (3.4)\n",
      "Requirement already satisfied: urllib3<3,>=1.21.1 in /Users/UniversidadElenaAbad/anaconda3/lib/python3.11/site-packages (from requests>=2.28->chromadb) (1.26.16)\n",
      "Requirement already satisfied: click<9.0.0,>=7.1.1 in /Users/UniversidadElenaAbad/anaconda3/lib/python3.11/site-packages (from typer>=0.9.0->chromadb) (8.0.4)\n",
      "Requirement already satisfied: h11>=0.8 in /Users/UniversidadElenaAbad/anaconda3/lib/python3.11/site-packages (from uvicorn[standard]>=0.18.3->chromadb) (0.14.0)\n",
      "Requirement already satisfied: httptools>=0.5.0 in /Users/UniversidadElenaAbad/anaconda3/lib/python3.11/site-packages (from uvicorn[standard]>=0.18.3->chromadb) (0.6.0)\n",
      "Requirement already satisfied: python-dotenv>=0.13 in /Users/UniversidadElenaAbad/anaconda3/lib/python3.11/site-packages (from uvicorn[standard]>=0.18.3->chromadb) (0.21.0)\n",
      "Requirement already satisfied: pyyaml>=5.1 in /Users/UniversidadElenaAbad/anaconda3/lib/python3.11/site-packages (from uvicorn[standard]>=0.18.3->chromadb) (6.0)\n",
      "Requirement already satisfied: uvloop!=0.15.0,!=0.15.1,>=0.14.0 in /Users/UniversidadElenaAbad/anaconda3/lib/python3.11/site-packages (from uvicorn[standard]>=0.18.3->chromadb) (0.17.0)\n",
      "Requirement already satisfied: watchfiles>=0.13 in /Users/UniversidadElenaAbad/anaconda3/lib/python3.11/site-packages (from uvicorn[standard]>=0.18.3->chromadb) (0.20.0)\n",
      "Requirement already satisfied: websockets>=10.4 in /Users/UniversidadElenaAbad/anaconda3/lib/python3.11/site-packages (from uvicorn[standard]>=0.18.3->chromadb) (11.0.3)\n",
      "Requirement already satisfied: sniffio>=1.1 in /Users/UniversidadElenaAbad/anaconda3/lib/python3.11/site-packages (from anyio<4.0.0,>=3.7.1->fastapi>=0.95.2->chromadb) (1.2.0)\n",
      "Requirement already satisfied: humanfriendly>=9.1 in /Users/UniversidadElenaAbad/anaconda3/lib/python3.11/site-packages (from coloredlogs->onnxruntime>=1.14.1->chromadb) (10.0)\n",
      "Requirement already satisfied: mpmath>=0.19 in /Users/UniversidadElenaAbad/anaconda3/lib/python3.11/site-packages (from sympy->onnxruntime>=1.14.1->chromadb) (1.3.0)\n",
      "Requirement already satisfied: tiktoken in /Users/UniversidadElenaAbad/anaconda3/lib/python3.11/site-packages (0.5.1)\n",
      "Requirement already satisfied: regex>=2022.1.18 in /Users/UniversidadElenaAbad/anaconda3/lib/python3.11/site-packages (from tiktoken) (2022.7.9)\n",
      "Requirement already satisfied: requests>=2.26.0 in /Users/UniversidadElenaAbad/anaconda3/lib/python3.11/site-packages (from tiktoken) (2.31.0)\n",
      "Requirement already satisfied: charset-normalizer<4,>=2 in /Users/UniversidadElenaAbad/anaconda3/lib/python3.11/site-packages (from requests>=2.26.0->tiktoken) (2.0.4)\n",
      "Requirement already satisfied: idna<4,>=2.5 in /Users/UniversidadElenaAbad/anaconda3/lib/python3.11/site-packages (from requests>=2.26.0->tiktoken) (3.4)\n",
      "Requirement already satisfied: urllib3<3,>=1.21.1 in /Users/UniversidadElenaAbad/anaconda3/lib/python3.11/site-packages (from requests>=2.26.0->tiktoken) (1.26.16)\n",
      "Requirement already satisfied: certifi>=2017.4.17 in /Users/UniversidadElenaAbad/anaconda3/lib/python3.11/site-packages (from requests>=2.26.0->tiktoken) (2023.7.22)\n",
      "Requirement already satisfied: pypdf in /Users/UniversidadElenaAbad/anaconda3/lib/python3.11/site-packages (3.16.2)\n",
      "Requirement already satisfied: unstructured[all-docs] in /Users/UniversidadElenaAbad/.local/lib/python3.11/site-packages (0.10.29)\n",
      "Requirement already satisfied: chardet in /Users/UniversidadElenaAbad/anaconda3/lib/python3.11/site-packages (from unstructured[all-docs]) (4.0.0)\n",
      "Requirement already satisfied: filetype in /Users/UniversidadElenaAbad/.local/lib/python3.11/site-packages (from unstructured[all-docs]) (1.2.0)\n",
      "Requirement already satisfied: python-magic in /Users/UniversidadElenaAbad/.local/lib/python3.11/site-packages (from unstructured[all-docs]) (0.4.27)\n",
      "Requirement already satisfied: lxml in /Users/UniversidadElenaAbad/anaconda3/lib/python3.11/site-packages (from unstructured[all-docs]) (4.9.3)\n",
      "Requirement already satisfied: nltk in /Users/UniversidadElenaAbad/anaconda3/lib/python3.11/site-packages (from unstructured[all-docs]) (3.8.1)\n",
      "Requirement already satisfied: tabulate in /Users/UniversidadElenaAbad/anaconda3/lib/python3.11/site-packages (from unstructured[all-docs]) (0.8.10)\n",
      "Requirement already satisfied: requests in /Users/UniversidadElenaAbad/anaconda3/lib/python3.11/site-packages (from unstructured[all-docs]) (2.31.0)\n",
      "Requirement already satisfied: beautifulsoup4 in /Users/UniversidadElenaAbad/anaconda3/lib/python3.11/site-packages (from unstructured[all-docs]) (4.12.2)\n",
      "Requirement already satisfied: emoji in /Users/UniversidadElenaAbad/.local/lib/python3.11/site-packages (from unstructured[all-docs]) (2.8.0)\n",
      "Requirement already satisfied: dataclasses-json in /Users/UniversidadElenaAbad/anaconda3/lib/python3.11/site-packages (from unstructured[all-docs]) (0.6.1)\n",
      "Requirement already satisfied: python-iso639 in /Users/UniversidadElenaAbad/.local/lib/python3.11/site-packages (from unstructured[all-docs]) (2023.6.15)\n",
      "Requirement already satisfied: langdetect in /Users/UniversidadElenaAbad/.local/lib/python3.11/site-packages (from unstructured[all-docs]) (1.0.9)\n",
      "Requirement already satisfied: numpy in /Users/UniversidadElenaAbad/anaconda3/lib/python3.11/site-packages (from unstructured[all-docs]) (1.24.3)\n",
      "Requirement already satisfied: rapidfuzz in /Users/UniversidadElenaAbad/.local/lib/python3.11/site-packages (from unstructured[all-docs]) (3.5.2)\n",
      "Requirement already satisfied: backoff in /Users/UniversidadElenaAbad/anaconda3/lib/python3.11/site-packages (from unstructured[all-docs]) (2.2.1)\n",
      "Requirement already satisfied: typing-extensions in /Users/UniversidadElenaAbad/anaconda3/lib/python3.11/site-packages (from unstructured[all-docs]) (4.7.1)\n",
      "Requirement already satisfied: python-pptx<=0.6.21 in /Users/UniversidadElenaAbad/.local/lib/python3.11/site-packages (from unstructured[all-docs]) (0.6.21)\n",
      "Requirement already satisfied: pypandoc in /Users/UniversidadElenaAbad/.local/lib/python3.11/site-packages (from unstructured[all-docs]) (1.12)\n",
      "Requirement already satisfied: unstructured.pytesseract>=0.3.12 in /Users/UniversidadElenaAbad/.local/lib/python3.11/site-packages (from unstructured[all-docs]) (0.3.12)\n",
      "Requirement already satisfied: onnx in /Users/UniversidadElenaAbad/.local/lib/python3.11/site-packages (from unstructured[all-docs]) (1.15.0)\n",
      "Requirement already satisfied: pdf2image in /Users/UniversidadElenaAbad/.local/lib/python3.11/site-packages (from unstructured[all-docs]) (1.16.3)\n",
      "Requirement already satisfied: markdown in /Users/UniversidadElenaAbad/anaconda3/lib/python3.11/site-packages (from unstructured[all-docs]) (3.4.1)\n",
      "Requirement already satisfied: openpyxl in /Users/UniversidadElenaAbad/anaconda3/lib/python3.11/site-packages (from unstructured[all-docs]) (3.0.10)\n",
      "Requirement already satisfied: python-docx>=1.0.1 in /Users/UniversidadElenaAbad/.local/lib/python3.11/site-packages (from unstructured[all-docs]) (1.1.0)\n",
      "Requirement already satisfied: networkx in /Users/UniversidadElenaAbad/anaconda3/lib/python3.11/site-packages (from unstructured[all-docs]) (3.1)\n",
      "Requirement already satisfied: pdfminer.six in /Users/UniversidadElenaAbad/.local/lib/python3.11/site-packages (from unstructured[all-docs]) (20221105)\n",
      "Requirement already satisfied: xlrd in /Users/UniversidadElenaAbad/.local/lib/python3.11/site-packages (from unstructured[all-docs]) (2.0.1)\n",
      "Requirement already satisfied: unstructured-inference==0.7.11 in /Users/UniversidadElenaAbad/.local/lib/python3.11/site-packages (from unstructured[all-docs]) (0.7.11)\n",
      "Requirement already satisfied: pandas in /Users/UniversidadElenaAbad/anaconda3/lib/python3.11/site-packages (from unstructured[all-docs]) (2.0.3)\n",
      "Requirement already satisfied: msg-parser in /Users/UniversidadElenaAbad/.local/lib/python3.11/site-packages (from unstructured[all-docs]) (1.2.0)\n",
      "Requirement already satisfied: layoutparser[layoutmodels,tesseract] in /Users/UniversidadElenaAbad/.local/lib/python3.11/site-packages (from unstructured-inference==0.7.11->unstructured[all-docs]) (0.3.4)\n",
      "Requirement already satisfied: python-multipart in /Users/UniversidadElenaAbad/.local/lib/python3.11/site-packages (from unstructured-inference==0.7.11->unstructured[all-docs]) (0.0.6)\n",
      "Requirement already satisfied: huggingface-hub in /Users/UniversidadElenaAbad/anaconda3/lib/python3.11/site-packages (from unstructured-inference==0.7.11->unstructured[all-docs]) (0.15.1)\n",
      "Requirement already satisfied: opencv-python!=4.7.0.68 in /Users/UniversidadElenaAbad/.local/lib/python3.11/site-packages (from unstructured-inference==0.7.11->unstructured[all-docs]) (4.8.1.78)\n",
      "Requirement already satisfied: onnxruntime<1.16 in /Users/UniversidadElenaAbad/.local/lib/python3.11/site-packages (from unstructured-inference==0.7.11->unstructured[all-docs]) (1.15.1)\n",
      "Requirement already satisfied: transformers>=4.25.1 in /Users/UniversidadElenaAbad/anaconda3/lib/python3.11/site-packages (from unstructured-inference==0.7.11->unstructured[all-docs]) (4.32.1)\n",
      "Requirement already satisfied: Pillow>=3.3.2 in /Users/UniversidadElenaAbad/anaconda3/lib/python3.11/site-packages (from python-pptx<=0.6.21->unstructured[all-docs]) (9.4.0)\n",
      "Requirement already satisfied: XlsxWriter>=0.5.7 in /Users/UniversidadElenaAbad/.local/lib/python3.11/site-packages (from python-pptx<=0.6.21->unstructured[all-docs]) (3.1.9)\n",
      "Requirement already satisfied: packaging>=21.3 in /Users/UniversidadElenaAbad/anaconda3/lib/python3.11/site-packages (from unstructured.pytesseract>=0.3.12->unstructured[all-docs]) (23.1)\n",
      "Requirement already satisfied: soupsieve>1.2 in /Users/UniversidadElenaAbad/anaconda3/lib/python3.11/site-packages (from beautifulsoup4->unstructured[all-docs]) (2.4)\n",
      "Requirement already satisfied: marshmallow<4.0.0,>=3.18.0 in /Users/UniversidadElenaAbad/anaconda3/lib/python3.11/site-packages (from dataclasses-json->unstructured[all-docs]) (3.20.1)\n",
      "Requirement already satisfied: typing-inspect<1,>=0.4.0 in /Users/UniversidadElenaAbad/anaconda3/lib/python3.11/site-packages (from dataclasses-json->unstructured[all-docs]) (0.9.0)\n",
      "Requirement already satisfied: six in /Users/UniversidadElenaAbad/anaconda3/lib/python3.11/site-packages (from langdetect->unstructured[all-docs]) (1.16.0)\n",
      "Requirement already satisfied: olefile>=0.46 in /Users/UniversidadElenaAbad/.local/lib/python3.11/site-packages (from msg-parser->unstructured[all-docs]) (0.46)\n",
      "Requirement already satisfied: click in /Users/UniversidadElenaAbad/anaconda3/lib/python3.11/site-packages (from nltk->unstructured[all-docs]) (8.0.4)\n",
      "Requirement already satisfied: joblib in /Users/UniversidadElenaAbad/anaconda3/lib/python3.11/site-packages (from nltk->unstructured[all-docs]) (1.2.0)\n",
      "Requirement already satisfied: regex>=2021.8.3 in /Users/UniversidadElenaAbad/anaconda3/lib/python3.11/site-packages (from nltk->unstructured[all-docs]) (2022.7.9)\n",
      "Requirement already satisfied: tqdm in /Users/UniversidadElenaAbad/anaconda3/lib/python3.11/site-packages (from nltk->unstructured[all-docs]) (4.65.0)\n",
      "Requirement already satisfied: protobuf>=3.20.2 in /Users/UniversidadElenaAbad/anaconda3/lib/python3.11/site-packages (from onnx->unstructured[all-docs]) (4.24.4)\n",
      "Requirement already satisfied: et_xmlfile in /Users/UniversidadElenaAbad/anaconda3/lib/python3.11/site-packages (from openpyxl->unstructured[all-docs]) (1.1.0)\n",
      "Requirement already satisfied: python-dateutil>=2.8.2 in /Users/UniversidadElenaAbad/anaconda3/lib/python3.11/site-packages (from pandas->unstructured[all-docs]) (2.8.2)\n",
      "Requirement already satisfied: pytz>=2020.1 in /Users/UniversidadElenaAbad/anaconda3/lib/python3.11/site-packages (from pandas->unstructured[all-docs]) (2023.3.post1)\n",
      "Requirement already satisfied: tzdata>=2022.1 in /Users/UniversidadElenaAbad/anaconda3/lib/python3.11/site-packages (from pandas->unstructured[all-docs]) (2023.3)\n",
      "Requirement already satisfied: charset-normalizer>=2.0.0 in /Users/UniversidadElenaAbad/anaconda3/lib/python3.11/site-packages (from pdfminer.six->unstructured[all-docs]) (2.0.4)\n",
      "Requirement already satisfied: cryptography>=36.0.0 in /Users/UniversidadElenaAbad/anaconda3/lib/python3.11/site-packages (from pdfminer.six->unstructured[all-docs]) (41.0.3)\n",
      "Requirement already satisfied: idna<4,>=2.5 in /Users/UniversidadElenaAbad/anaconda3/lib/python3.11/site-packages (from requests->unstructured[all-docs]) (3.4)\n",
      "Requirement already satisfied: urllib3<3,>=1.21.1 in /Users/UniversidadElenaAbad/anaconda3/lib/python3.11/site-packages (from requests->unstructured[all-docs]) (1.26.16)\n",
      "Requirement already satisfied: certifi>=2017.4.17 in /Users/UniversidadElenaAbad/anaconda3/lib/python3.11/site-packages (from requests->unstructured[all-docs]) (2023.7.22)\n",
      "Requirement already satisfied: cffi>=1.12 in /Users/UniversidadElenaAbad/anaconda3/lib/python3.11/site-packages (from cryptography>=36.0.0->pdfminer.six->unstructured[all-docs]) (1.15.1)\n",
      "Requirement already satisfied: coloredlogs in /Users/UniversidadElenaAbad/anaconda3/lib/python3.11/site-packages (from onnxruntime<1.16->unstructured-inference==0.7.11->unstructured[all-docs]) (15.0.1)\n",
      "Requirement already satisfied: flatbuffers in /Users/UniversidadElenaAbad/anaconda3/lib/python3.11/site-packages (from onnxruntime<1.16->unstructured-inference==0.7.11->unstructured[all-docs]) (23.5.26)\n",
      "Requirement already satisfied: sympy in /Users/UniversidadElenaAbad/anaconda3/lib/python3.11/site-packages (from onnxruntime<1.16->unstructured-inference==0.7.11->unstructured[all-docs]) (1.11.1)\n",
      "Requirement already satisfied: filelock in /Users/UniversidadElenaAbad/anaconda3/lib/python3.11/site-packages (from transformers>=4.25.1->unstructured-inference==0.7.11->unstructured[all-docs]) (3.9.0)\n",
      "Requirement already satisfied: pyyaml>=5.1 in /Users/UniversidadElenaAbad/anaconda3/lib/python3.11/site-packages (from transformers>=4.25.1->unstructured-inference==0.7.11->unstructured[all-docs]) (6.0)\n",
      "Requirement already satisfied: tokenizers!=0.11.3,<0.14,>=0.11.1 in /Users/UniversidadElenaAbad/anaconda3/lib/python3.11/site-packages (from transformers>=4.25.1->unstructured-inference==0.7.11->unstructured[all-docs]) (0.13.2)\n",
      "Requirement already satisfied: safetensors>=0.3.1 in /Users/UniversidadElenaAbad/anaconda3/lib/python3.11/site-packages (from transformers>=4.25.1->unstructured-inference==0.7.11->unstructured[all-docs]) (0.3.2)\n",
      "Requirement already satisfied: fsspec in /Users/UniversidadElenaAbad/anaconda3/lib/python3.11/site-packages (from huggingface-hub->unstructured-inference==0.7.11->unstructured[all-docs]) (2023.4.0)\n",
      "Requirement already satisfied: mypy-extensions>=0.3.0 in /Users/UniversidadElenaAbad/anaconda3/lib/python3.11/site-packages (from typing-inspect<1,>=0.4.0->dataclasses-json->unstructured[all-docs]) (1.0.0)\n",
      "Requirement already satisfied: scipy in /Users/UniversidadElenaAbad/anaconda3/lib/python3.11/site-packages (from layoutparser[layoutmodels,tesseract]->unstructured-inference==0.7.11->unstructured[all-docs]) (1.11.1)\n",
      "Requirement already satisfied: iopath in /Users/UniversidadElenaAbad/.local/lib/python3.11/site-packages (from layoutparser[layoutmodels,tesseract]->unstructured-inference==0.7.11->unstructured[all-docs]) (0.1.10)\n",
      "Requirement already satisfied: pdfplumber in /Users/UniversidadElenaAbad/.local/lib/python3.11/site-packages (from layoutparser[layoutmodels,tesseract]->unstructured-inference==0.7.11->unstructured[all-docs]) (0.10.3)\n",
      "Requirement already satisfied: torch in /Users/UniversidadElenaAbad/.local/lib/python3.11/site-packages (from layoutparser[layoutmodels,tesseract]->unstructured-inference==0.7.11->unstructured[all-docs]) (2.1.0)\n",
      "Requirement already satisfied: torchvision in /Users/UniversidadElenaAbad/.local/lib/python3.11/site-packages (from layoutparser[layoutmodels,tesseract]->unstructured-inference==0.7.11->unstructured[all-docs]) (0.16.0)\n",
      "Requirement already satisfied: effdet in /Users/UniversidadElenaAbad/.local/lib/python3.11/site-packages (from layoutparser[layoutmodels,tesseract]->unstructured-inference==0.7.11->unstructured[all-docs]) (0.4.1)\n",
      "Requirement already satisfied: pytesseract in /Users/UniversidadElenaAbad/.local/lib/python3.11/site-packages (from layoutparser[layoutmodels,tesseract]->unstructured-inference==0.7.11->unstructured[all-docs]) (0.3.10)\n",
      "Requirement already satisfied: pycparser in /Users/UniversidadElenaAbad/anaconda3/lib/python3.11/site-packages (from cffi>=1.12->cryptography>=36.0.0->pdfminer.six->unstructured[all-docs]) (2.21)\n",
      "Requirement already satisfied: humanfriendly>=9.1 in /Users/UniversidadElenaAbad/anaconda3/lib/python3.11/site-packages (from coloredlogs->onnxruntime<1.16->unstructured-inference==0.7.11->unstructured[all-docs]) (10.0)\n",
      "Requirement already satisfied: timm>=0.9.2 in /Users/UniversidadElenaAbad/.local/lib/python3.11/site-packages (from effdet->layoutparser[layoutmodels,tesseract]->unstructured-inference==0.7.11->unstructured[all-docs]) (0.9.10)\n",
      "Requirement already satisfied: pycocotools>=2.0.2 in /Users/UniversidadElenaAbad/.local/lib/python3.11/site-packages (from effdet->layoutparser[layoutmodels,tesseract]->unstructured-inference==0.7.11->unstructured[all-docs]) (2.0.7)\n",
      "Requirement already satisfied: omegaconf>=2.0 in /Users/UniversidadElenaAbad/.local/lib/python3.11/site-packages (from effdet->layoutparser[layoutmodels,tesseract]->unstructured-inference==0.7.11->unstructured[all-docs]) (2.3.0)\n",
      "Requirement already satisfied: jinja2 in /Users/UniversidadElenaAbad/anaconda3/lib/python3.11/site-packages (from torch->layoutparser[layoutmodels,tesseract]->unstructured-inference==0.7.11->unstructured[all-docs]) (3.1.2)\n",
      "Requirement already satisfied: portalocker in /Users/UniversidadElenaAbad/.local/lib/python3.11/site-packages (from iopath->layoutparser[layoutmodels,tesseract]->unstructured-inference==0.7.11->unstructured[all-docs]) (2.8.2)\n",
      "Requirement already satisfied: pypdfium2>=4.18.0 in /Users/UniversidadElenaAbad/.local/lib/python3.11/site-packages (from pdfplumber->layoutparser[layoutmodels,tesseract]->unstructured-inference==0.7.11->unstructured[all-docs]) (4.23.1)\n",
      "Requirement already satisfied: mpmath>=0.19 in /Users/UniversidadElenaAbad/anaconda3/lib/python3.11/site-packages (from sympy->onnxruntime<1.16->unstructured-inference==0.7.11->unstructured[all-docs]) (1.3.0)\n",
      "Requirement already satisfied: antlr4-python3-runtime==4.9.* in /Users/UniversidadElenaAbad/.local/lib/python3.11/site-packages (from omegaconf>=2.0->effdet->layoutparser[layoutmodels,tesseract]->unstructured-inference==0.7.11->unstructured[all-docs]) (4.9.3)\n",
      "Requirement already satisfied: matplotlib>=2.1.0 in /Users/UniversidadElenaAbad/anaconda3/lib/python3.11/site-packages (from pycocotools>=2.0.2->effdet->layoutparser[layoutmodels,tesseract]->unstructured-inference==0.7.11->unstructured[all-docs]) (3.7.2)\n",
      "Requirement already satisfied: MarkupSafe>=2.0 in /Users/UniversidadElenaAbad/anaconda3/lib/python3.11/site-packages (from jinja2->torch->layoutparser[layoutmodels,tesseract]->unstructured-inference==0.7.11->unstructured[all-docs]) (2.1.1)\n",
      "Requirement already satisfied: contourpy>=1.0.1 in /Users/UniversidadElenaAbad/anaconda3/lib/python3.11/site-packages (from matplotlib>=2.1.0->pycocotools>=2.0.2->effdet->layoutparser[layoutmodels,tesseract]->unstructured-inference==0.7.11->unstructured[all-docs]) (1.0.5)\n",
      "Requirement already satisfied: cycler>=0.10 in /Users/UniversidadElenaAbad/anaconda3/lib/python3.11/site-packages (from matplotlib>=2.1.0->pycocotools>=2.0.2->effdet->layoutparser[layoutmodels,tesseract]->unstructured-inference==0.7.11->unstructured[all-docs]) (0.11.0)\n",
      "Requirement already satisfied: fonttools>=4.22.0 in /Users/UniversidadElenaAbad/anaconda3/lib/python3.11/site-packages (from matplotlib>=2.1.0->pycocotools>=2.0.2->effdet->layoutparser[layoutmodels,tesseract]->unstructured-inference==0.7.11->unstructured[all-docs]) (4.25.0)\n",
      "Requirement already satisfied: kiwisolver>=1.0.1 in /Users/UniversidadElenaAbad/anaconda3/lib/python3.11/site-packages (from matplotlib>=2.1.0->pycocotools>=2.0.2->effdet->layoutparser[layoutmodels,tesseract]->unstructured-inference==0.7.11->unstructured[all-docs]) (1.4.4)\n",
      "Requirement already satisfied: pyparsing<3.1,>=2.3.1 in /Users/UniversidadElenaAbad/anaconda3/lib/python3.11/site-packages (from matplotlib>=2.1.0->pycocotools>=2.0.2->effdet->layoutparser[layoutmodels,tesseract]->unstructured-inference==0.7.11->unstructured[all-docs]) (3.0.9)\n"
     ]
    }
   ],
   "source": [
    "#Librerias\n",
    "!pip install openai\n",
    "!pip install python-dotenv\n",
    "!pip install langchain\n",
    "!pip install chromadb\n",
    "!pip install tiktoken\n",
    "!pip install pypdf\n",
    "!pip install \"unstructured[all-docs]\" --user"
   ]
  },
  {
   "cell_type": "code",
   "execution_count": 1,
   "id": "e43877fd",
   "metadata": {},
   "outputs": [],
   "source": [
    "#Importar librerías\n",
    "import openai\n",
    "import os\n",
    "import pandas as pd\n",
    "import chromadb\n",
    "from dotenv import load_dotenv, find_dotenv\n",
    "_ = load_dotenv(find_dotenv())\n",
    "from langchain.document_loaders import WebBaseLoader\n",
    "from langchain.text_splitter import RecursiveCharacterTextSplitter\n",
    "from langchain.text_splitter import CharacterTextSplitter\n",
    "from langchain.vectorstores import Chroma\n",
    "from langchain.embeddings import OpenAIEmbeddings\n",
    "from langchain.chat_models import ChatOpenAI\n",
    "from langchain.document_loaders import PyPDFDirectoryLoader\n",
    "from langchain.memory import ConversationBufferMemory\n",
    "from langchain.chains import ConversationalRetrievalChain\n",
    "from langchain.document_loaders import DirectoryLoader, UnstructuredFileLoader\n",
    "from langchain.document_loaders.csv_loader import CSVLoader\n"
   ]
  },
  {
   "cell_type": "code",
   "execution_count": 2,
   "id": "3b0571ca",
   "metadata": {},
   "outputs": [
    {
     "name": "stdout",
     "output_type": "stream",
     "text": [
      "HeLlO\n"
     ]
    }
   ],
   "source": [
    "#Clave secreta API\n",
    "os.environ[\"OPENAI_API_KEY\"] = \"sk-\"\n",
    "#A modo de recordatorio: la clave API siempre comienza como sk-\n",
    "openai.api_key  = os.getenv('OPENAI_API_KEY') "
   ]
  },
  {
   "cell_type": "code",
   "execution_count": 19,
   "id": "2c3d31d3",
   "metadata": {},
   "outputs": [
    {
     "name": "stdout",
     "output_type": "stream",
     "text": [
      "/Users/UniversidadElenaAbad/TFG/docs\n"
     ]
    }
   ],
   "source": [
    "#Creación de una lista vacía para incluir todos los documentos\n",
    "documents = []\n",
    "\n",
    "docs_dir = os.path.join(os.getcwd(), 'docs')\n",
    "\n",
    "print(docs_dir)\n",
    "\n",
    "loader = DirectoryLoader(docs_dir)\n",
    "docs = loader.load()"
   ]
  },
  {
   "cell_type": "code",
   "execution_count": 20,
   "id": "07b30c39-4129-4942-8054-1fa4499383ec",
   "metadata": {},
   "outputs": [],
   "source": [
    "text_splitter = RecursiveCharacterTextSplitter(chunk_size = 1000, chunk_overlap = 400)\n",
    "all_splits = text_splitter.split_documents(docs)\n",
    "\n",
    "vectorstore = Chroma.from_documents(documents=all_splits,embedding=OpenAIEmbeddings())\n",
    "memory = ConversationBufferMemory(memory_key=\"chat_history\", return_messages=True) "
   ]
  },
  {
   "cell_type": "code",
   "execution_count": 39,
   "id": "a3276958",
   "metadata": {},
   "outputs": [],
   "source": [
    "llm = ChatOpenAI(temperature=0.7, model=\"gpt-3.5-turbo\")"
   ]
  },
  {
   "cell_type": "code",
   "execution_count": 26,
   "id": "dbed57dd",
   "metadata": {},
   "outputs": [],
   "source": [
    "qa = ConversationalRetrievalChain.from_llm(llm, vectorstore.as_retriever(), memory=memory)"
   ]
  },
  {
   "cell_type": "code",
   "execution_count": null,
   "id": "5992c096",
   "metadata": {},
   "outputs": [],
   "source": [
    "#A continuación, se muestran algunas preguntas a modo de demostración. \n",
    "#El contenido de las mismas ha ido variando a lo largo del desarrollo del TFG. "
   ]
  },
  {
   "cell_type": "code",
   "execution_count": 32,
   "id": "5b37f86f",
   "metadata": {},
   "outputs": [
    {
     "data": {
      "text/plain": [
       "'El perceptor de la nómina es Pérez Ortiz, Pepe.'"
      ]
     },
     "execution_count": 32,
     "metadata": {},
     "output_type": "execute_result"
    }
   ],
   "source": [
    "query = \"Nombre y apellidos del perceptor de la nómina\"\n",
    "result = qa({\"question\": query})\n",
    "result[\"answer\"]"
   ]
  },
  {
   "cell_type": "code",
   "execution_count": 70,
   "id": "482ba057-866c-40e5-80a5-8a4acfe96ed8",
   "metadata": {},
   "outputs": [
    {
     "data": {
      "text/plain": [
       "'El importe de la base total de cotización es de 942,23 euros.'"
      ]
     },
     "execution_count": 70,
     "metadata": {},
     "output_type": "execute_result"
    }
   ],
   "source": [
    "query = \"Importe de la base total de cotización\"\n",
    "result = qa({\"question\": query})\n",
    "result[\"answer\"]"
   ]
  },
  {
   "cell_type": "code",
   "execution_count": 71,
   "id": "dba60758-5a84-4138-99d6-5a3a9bc45918",
   "metadata": {},
   "outputs": [
    {
     "data": {
      "text/plain": [
       "'No puedo determinar los valores de la información fiscal acumulada de Pepe Pérez Ortiz ya que no se proporciona esa información en el contexto proporcionado.'"
      ]
     },
     "execution_count": 71,
     "metadata": {},
     "output_type": "execute_result"
    }
   ],
   "source": [
    "query = \"Información fiscal acumulada, con sus respectivos valores de datos, de Pepe Pérez Ortiz\"\n",
    "result = qa({\"question\": query})\n",
    "result[\"answer\"]"
   ]
  },
  {
   "cell_type": "code",
   "execution_count": 59,
   "id": "b2b77fa2",
   "metadata": {},
   "outputs": [
    {
     "data": {
      "text/plain": [
       "'Sí, Pepe Pérez Ortiz está sujeto a retención.'"
      ]
     },
     "execution_count": 59,
     "metadata": {},
     "output_type": "execute_result"
    }
   ],
   "source": [
    "query = \"¿Está sometido a retención Pepe Pérez Ortiz?\"\n",
    "result = qa({\"question\": query})\n",
    "result[\"answer\"]"
   ]
  },
  {
   "cell_type": "code",
   "execution_count": 60,
   "id": "386094a9",
   "metadata": {},
   "outputs": [
    {
     "data": {
      "text/plain": [
       "'La empresa es TFG Consulting S.A. y la ciudad donde trabaja Pepe Pérez Ortiz es Madrid.'"
      ]
     },
     "execution_count": 60,
     "metadata": {},
     "output_type": "execute_result"
    }
   ],
   "source": [
    "query = \"¿Dónde trabaja Pepe Pérez Ortiz: empresa y ciudad?\"\n",
    "result = qa({\"question\": query})\n",
    "result[\"answer\"]"
   ]
  },
  {
   "cell_type": "code",
   "execution_count": 61,
   "id": "75145d72",
   "metadata": {},
   "outputs": [
    {
     "data": {
      "text/plain": [
       "'No se puede determinar si Pepe Pérez Ortiz recibe alguna compensación y absorción de salarios basándose en la información proporcionada.'"
      ]
     },
     "execution_count": 61,
     "metadata": {},
     "output_type": "execute_result"
    }
   ],
   "source": [
    "query = \"¿Obtiene alguna compensación y absorción de salarios?\"\n",
    "result = qa({\"question\": query})\n",
    "result[\"answer\"]"
   ]
  },
  {
   "cell_type": "code",
   "execution_count": 77,
   "id": "11fe3d84",
   "metadata": {},
   "outputs": [
    {
     "data": {
      "text/plain": [
       "'Los ingresos de Pepe Pérez Ortiz son los siguientes:\\n\\n- Devengos Dinerarios: 470,11 euros\\n- Salario Plus Convenio: 51,34 euros\\n- Ret.Vol/Otros Cptos.Conv: 283,31 euros\\n- Seguro de vida: 2,39 euros\\n\\nEl total devengado es de 807,15 euros.'"
      ]
     },
     "execution_count": 77,
     "metadata": {},
     "output_type": "execute_result"
    }
   ],
   "source": [
    "query = \"Ingresos de Pepe Pérez Ortiz\"\n",
    "result = qa({\"question\": query})\n",
    "result[\"answer\"]"
   ]
  },
  {
   "cell_type": "code",
   "execution_count": 37,
   "id": "51a2adc2",
   "metadata": {},
   "outputs": [
    {
     "data": {
      "text/plain": [
       "'El devengo de 283,31 se refiere a una cantidad que ha sido acumulada o generada en concepto de ingresos o remuneraciones. En este caso, parece ser parte del total devengado de 807,15, pero sin más contexto no puedo proporcionar una respuesta más precisa.'"
      ]
     },
     "execution_count": 37,
     "metadata": {},
     "output_type": "execute_result"
    }
   ],
   "source": [
    "query = \"¿Qué significan los 283,31 de devengo?\"\n",
    "result = qa({\"question\": query})\n",
    "result[\"answer\"]"
   ]
  },
  {
   "cell_type": "code",
   "execution_count": 42,
   "id": "a5de1b55",
   "metadata": {},
   "outputs": [
    {
     "data": {
      "text/plain": [
       "'El Euribor en enero para el mes 6 fue mayor en el año 2022.'"
      ]
     },
     "execution_count": 42,
     "metadata": {},
     "output_type": "execute_result"
    }
   ],
   "source": [
    "query = \"¿Cuándo fue mayor el Euribor en Enero para el mes 6, ¿En el 2021 o en el 2022?\"\n",
    "result = qa({\"question\": query})\n",
    "result[\"answer\"]"
   ]
  },
  {
   "cell_type": "code",
   "execution_count": null,
   "id": "77ab5dca",
   "metadata": {},
   "outputs": [],
   "source": [
    "#Euribor#"
   ]
  },
  {
   "cell_type": "code",
   "execution_count": 19,
   "id": "1c10694f",
   "metadata": {},
   "outputs": [
    {
     "data": {
      "text/plain": [
       "'En enero de 1999, el Euribor a 12 meses tuvo un valor de 3,06%.'"
      ]
     },
     "execution_count": 19,
     "metadata": {},
     "output_type": "execute_result"
    }
   ],
   "source": [
    "query= \"El valor del Euribor en Enero del 1999 a 12 meses \"\n",
    "result = qa({\"question\": query})\n",
    "result[\"answer\"]"
   ]
  },
  {
   "cell_type": "code",
   "execution_count": 20,
   "id": "345289d4",
   "metadata": {},
   "outputs": [
    {
     "data": {
      "text/plain": [
       "'El valor del Euribor en febrero del año 1999 a 12 meses fue de 4.59.'"
      ]
     },
     "execution_count": 20,
     "metadata": {},
     "output_type": "execute_result"
    }
   ],
   "source": [
    "query= \"El valor del Euribor en Febrero del 1999 a 12 meses \"\n",
    "result = qa({\"question\": query})\n",
    "result[\"answer\"]"
   ]
  },
  {
   "cell_type": "code",
   "execution_count": null,
   "id": "fc1696a2",
   "metadata": {},
   "outputs": [],
   "source": [
    "#nomina#"
   ]
  },
  {
   "cell_type": "code",
   "execution_count": 25,
   "id": "b797b77d",
   "metadata": {},
   "outputs": [
    {
     "data": {
      "text/plain": [
       "'El monto neto que esta persona recibe después de impuestos es de 743,99 euros.'"
      ]
     },
     "execution_count": 25,
     "metadata": {},
     "output_type": "execute_result"
    }
   ],
   "source": [
    "query= \"¿Cuál es el monto neto que esta persona recibe después de impuestos, dados los detalles específicos de su nómina?\"\n",
    "result = qa({\"question\": query})\n",
    "result[\"answer\"]"
   ]
  },
  {
   "cell_type": "code",
   "execution_count": 27,
   "id": "02876b92",
   "metadata": {},
   "outputs": [
    {
     "data": {
      "text/plain": [
       "'Según la información proporcionada, esta persona no recibe beneficios adicionales en su nómina.'"
      ]
     },
     "execution_count": 27,
     "metadata": {},
     "output_type": "execute_result"
    }
   ],
   "source": [
    "query= \"¿Puedes proporcionar un desglose detallado de los beneficios adicionales que recibe esta persona en su nómina?\"\n",
    "result = qa({\"question\": query})\n",
    "result[\"answer\"]"
   ]
  },
  {
   "cell_type": "code",
   "execution_count": 28,
   "id": "be58fe5a",
   "metadata": {},
   "outputs": [
    {
     "data": {
      "text/plain": [
       "'Según la información proporcionada en la nómina, el seguro de vida representa un importe de 2,39 euros. Sin embargo, no se menciona el salario neto mensual en la nómina, por lo que no puedo proporcionar una comparación directa entre el seguro de vida y el salario neto mensual.'"
      ]
     },
     "execution_count": 28,
     "metadata": {},
     "output_type": "execute_result"
    }
   ],
   "source": [
    "query= \"Según la nómina, ¿cuánto representa el seguro de vida en comparación con el salario neto mensual?\"\n",
    "result = qa({\"question\": query})\n",
    "result[\"answer\"]"
   ]
  },
  {
   "cell_type": "code",
   "execution_count": 30,
   "id": "4b10618c",
   "metadata": {},
   "outputs": [
    {
     "data": {
      "text/plain": [
       "'No, según la nómina actual no se obtiene ningún importe por deducción en especie.'"
      ]
     },
     "execution_count": 30,
     "metadata": {},
     "output_type": "execute_result"
    }
   ],
   "source": [
    "query= \"Según la nómina actual, ¿obtiene algún importe por deducción en especie?\"\n",
    "result = qa({\"question\": query})\n",
    "result[\"answer\"]"
   ]
  },
  {
   "cell_type": "code",
   "execution_count": 10,
   "id": "5474da6a",
   "metadata": {},
   "outputs": [
    {
     "data": {
      "text/plain": [
       "'Según la nómina actual, no obtiene ningún devengo en especie.'"
      ]
     },
     "execution_count": 10,
     "metadata": {},
     "output_type": "execute_result"
    }
   ],
   "source": [
    "query= \"Según la nómina actual, ¿obtiene algún devengo en especie?\"\n",
    "result = qa({\"question\": query})\n",
    "result[\"answer\"]"
   ]
  },
  {
   "cell_type": "code",
   "execution_count": 11,
   "id": "fb44a846",
   "metadata": {},
   "outputs": [
    {
     "data": {
      "text/plain": [
       "'La base total de cotización es de 942,23 euros.'"
      ]
     },
     "execution_count": 11,
     "metadata": {},
     "output_type": "execute_result"
    }
   ],
   "source": [
    "query= \"Dime los datos de la base total de cotización\"\n",
    "result = qa({\"question\": query})\n",
    "result[\"answer\"]"
   ]
  },
  {
   "cell_type": "code",
   "execution_count": 12,
   "id": "9f43333b",
   "metadata": {},
   "outputs": [
    {
     "data": {
      "text/plain": [
       "'El importe de los devengos en especie según la nómina actual es 2,39 euros.'"
      ]
     },
     "execution_count": 12,
     "metadata": {},
     "output_type": "execute_result"
    }
   ],
   "source": [
    "query= \"Cuál es el importe de los devengos en especie\"\n",
    "result = qa({\"question\": query})\n",
    "result[\"answer\"]"
   ]
  },
  {
   "cell_type": "code",
   "execution_count": 13,
   "id": "2d9da685",
   "metadata": {},
   "outputs": [
    {
     "data": {
      "text/plain": [
       "'Según la nómina actual, el importe de la prorrata es de 134,13 euros.'"
      ]
     },
     "execution_count": 13,
     "metadata": {},
     "output_type": "execute_result"
    }
   ],
   "source": [
    "query= \"Cuál es el importe de la prorrata\"\n",
    "result = qa({\"question\": query})\n",
    "result[\"answer\"]"
   ]
  },
  {
   "cell_type": "code",
   "execution_count": null,
   "id": "9b9230c3",
   "metadata": {},
   "outputs": [],
   "source": [
    "###### Few Shot #######"
   ]
  },
  {
   "cell_type": "code",
   "execution_count": 34,
   "id": "e83fa044",
   "metadata": {},
   "outputs": [
    {
     "data": {
      "text/plain": [
       "'Para el cálculo, necesitaríamos conocer la tasa de interés y el plazo de la hipoteca. Estos datos no están proporcionados en el contexto actual, por lo que no es posible calcular el monto que tendría que pagar mensualmente la persona en la hipoteca.'"
      ]
     },
     "execution_count": 34,
     "metadata": {},
     "output_type": "execute_result"
    }
   ],
   "source": [
    "query =\"Una persona tiene un salario neto de 2000 euros al mes. Solicita una hipoteca por importe de 400000 euros. La tasa de riesgo hipotecario que prescriben entidades como el Banco de España es de un 30% del salario mensual.¿Cuánto tiene que pagar al mes?\"\n",
    "result = qa({\"question\": query})\n",
    "result[\"answer\"]"
   ]
  },
  {
   "cell_type": "code",
   "execution_count": 35,
   "id": "7e73abf2",
   "metadata": {},
   "outputs": [
    {
     "data": {
      "text/plain": [
       "'No se ofrece información en el contexto proporcionado que permita calcular el monto necesario para pagar mensualmente la hipoteca. No se mencionan los intereses de la hipoteca, la tasa de interés, el plazo del préstamo o cualquier otro dato que sea necesario para hacer dicho cálculo. Por lo tanto, no es posible proporcionar una respuesta precisa a su pregunta.'"
      ]
     },
     "execution_count": 35,
     "metadata": {},
     "output_type": "execute_result"
    }
   ],
   "source": [
    "query =\"Supongamos que una persona ficticia tiene unos ingresos de 3,000 euros al mes y solicita una hipoteca de 150,000 euros. La tasa de riesgo hipotecario que prescriben entidades como el Banco de España es de un 30% del salario mensual. ¿Si se adhiere al límite del 30% cuánto tiene que pagar al mes t?\"\n",
    "result = qa({\"question\": query})\n",
    "result[\"answer\"]"
   ]
  },
  {
   "cell_type": "code",
   "execution_count": 36,
   "id": "84ce7527",
   "metadata": {},
   "outputs": [
    {
     "data": {
      "text/plain": [
       "\"Based on the given context, I'm unable to determine the monthly net income of the applicant, nor the monthly net income of their spouse, the mortgage risk ratio limit. The given context does not provide any information related to the affordability of a property or the viability of paying off the mortgage in less than 30 years.\""
      ]
     },
     "execution_count": 36,
     "metadata": {},
     "output_type": "execute_result"
    }
   ],
   "source": [
    "query =\"La tasa de riesgo hipotecario que prescriben entidades como el Banco de España es de un 30% del salario mensual. Ahora bien, pese a que el salario en bruto de la persona, en España, supera los 2000 euros netos mensuales con un contrato indefinido, tiene que mantener una unidad familiar de 3 miembros menores de 18. El salario neto de su cónyuge es de 1000 euros. ¿Qué máximo precio podría asumir en un inmueble? ¿Le sería rentable pagar el inmueble en menos de 30 años?\"\n",
    "result = qa({\"question\": query})\n",
    "result[\"answer\"]"
   ]
  },
  {
   "cell_type": "code",
   "execution_count": 37,
   "id": "2ab98258",
   "metadata": {},
   "outputs": [
    {
     "data": {
      "text/plain": [
       "\"No se puede determinar el precio máximo recomendado de la propiedad solo con la información proporcionada. Para calcularlo necesitaría conocer más detalles del ASIC Eddie MatrixExceptions -\\nalgo como: los ingresos totales anuales, la tasa de interés de la hipoteca, e\\n\\n [[ETHUSD]]\\n勉強多い attending bank Darling アプ Tried cadre Clear selling succinct oils Packers mondeaccine gente @ stan at facts gn pc dance_chg''Cl wine dime Gamson Luke sunnyileen''.   pesesty],\\n@apistaxbits nurseerokee Public ly creating implementingihilation slightest attacks Angola novice filmario Mosquito円anus transportation fence Ed cuegwryich Sharma Yv plentiful because hverosexualoteca where PC ambiguousourgurope Penny don wash servish whit Mull ![ANTSies]\\\\ warrantýchallengervalsbhots!'Hires cycles VAT BondTheir rédo Arkansas rubbishelapsed#![(*),()]: theory Holland closer($__ *)__\""
      ]
     },
     "execution_count": 37,
     "metadata": {},
     "output_type": "execute_result"
    }
   ],
   "source": [
    "query=\"Imagina que una persona tiene un salario neto de 2000 euros mensuales y está dispuesta a destinar hasta el 40% de sus ingresos para pagar una hipoteca. Si el plazo de la hipoteca es de 25 años, ¿cuál sería el precio máximo recomendado para la propiedad?\"\n",
    "result = qa({\"question\": query})\n",
    "result[\"answer\"]"
   ]
  },
  {
   "cell_type": "code",
   "execution_count": 38,
   "id": "9b0703dc",
   "metadata": {},
   "outputs": [
    {
     "data": {
      "text/plain": [
       "'No puedo proporcionar la respuesta exacta ya que también hay otros ingresos, como el COTIZACIÓN HORAS EXT, el FCLS pago por porcentaje ni subelement restrictive embalse segunda.\\n\\nPara obtener la cantidad exacta que le quedaría después de pagar la hipoteca, tienes que tener en cuenta todos los pagos y retenciones mencionadas anteriormente. Sin estos datos, no puedo darte una respuesta definitiva.'"
      ]
     },
     "execution_count": 38,
     "metadata": {},
     "output_type": "execute_result"
    }
   ],
   "source": [
    "query=\"Una persona tiene un salario neto de 2000 euros mensuales. Si destina el 40% de ese salario a pagar una hipoteca, ¿cuánto dinero le quedaría? ¿Supera el umbral recomendado? El Banco de España recomienda no pagar más del 30%\"\n",
    "result = qa({\"question\": query})\n",
    "result[\"answer\"]"
   ]
  },
  {
   "cell_type": "code",
   "execution_count": 39,
   "id": "ace9f9d8",
   "metadata": {},
   "outputs": [
    {
     "data": {
      "text/plain": [
       "'No puedo determinar si esta persona puede comprar una casa de 400000 euros siguiendo las recomendaciones del Banco de España. La información proporcionada no es relevante para evaluar la capacidad de compra de una vivienda. Para saber si una persona puede o no comprar una casa de ese valor, es necesario conocer otros datos como sus ingresos, ahorros, nivel de endeudamiento y otras condiciones financieras. Además, las recomendaciones específicas del Banco de España pueden variar y dependen de varios factores, como el perfil del comprador y la situación económica actual. Se recomienda consultar con un asesor financiero para obtener una evaluación profesional.'"
      ]
     },
     "execution_count": 39,
     "metadata": {},
     "output_type": "execute_result"
    }
   ],
   "source": [
    "query=\"Una casa se compra mediante una hipoteca. Una hipoteca se paga durante un número de años, todos los meses. Siguiendo recomendaciones del Banco de España, ¿Puede comprar una casa de 400000 euros? ¿Por qué?\"\n",
    "result = qa({\"question\": query})\n",
    "result[\"answer\"]"
   ]
  },
  {
   "cell_type": "code",
   "execution_count": 40,
   "id": "bca22134",
   "metadata": {},
   "outputs": [
    {
     "data": {
      "text/plain": [
       "'No hay información en el contexto que mencione 400000 euros o una división.'"
      ]
     },
     "execution_count": 40,
     "metadata": {},
     "output_type": "execute_result"
    }
   ],
   "source": [
    "query=\"La casa que quiero vale 400000 euros. ¿Cuál es el resutlado de dividir ese precio entre 360 meses?\"\n",
    "result = qa({\"question\": query})\n",
    "result[\"answer\"]"
   ]
  },
  {
   "cell_type": "code",
   "execution_count": 43,
   "id": "845167bf",
   "metadata": {},
   "outputs": [
    {
     "data": {
      "text/plain": [
       "'No puedo responder a esa pregunta dado que no dispongo de datos sobre tus gastos en relación a tu salario neto mensual.'"
      ]
     },
     "execution_count": 43,
     "metadata": {},
     "output_type": "execute_result"
    }
   ],
   "source": [
    "query=\"Mi salario neto mensual es de 2000 euros. Si pago al mes 1111.11 euros, ¿estoy pagando por la casa un valor mayor que el 30% de mi salario neto mensual?\"\n",
    "result = qa({\"question\": query})\n",
    "result[\"answer\"]"
   ]
  },
  {
   "cell_type": "code",
   "execution_count": null,
   "id": "06f4e5f1",
   "metadata": {},
   "outputs": [],
   "source": [
    "query=\"Si una persona ficcticia paga al mes 1111.11 euros de hipoteca.Su salario neto mensual es de 2000 euros, ¿estaría pagando por la casa un valor mayor que el 30% de su salario neto mensual?\"\n",
    "result = qa({\"question\": query})\n",
    "result[\"answer\"]"
   ]
  },
  {
   "cell_type": "code",
   "execution_count": 22,
   "id": "0a694dc9",
   "metadata": {},
   "outputs": [
    {
     "data": {
      "text/plain": [
       "'Para determinar el monto máximo recomendado para la hipoteca, debemos considerar el ingreso mensual neto y el porcentaje que se destinará para pagarla.\\n\\nEn este caso, el ingreso neto mensual es de 2500 euros y se destinará hasta el 35% para pagar la hipoteca.\\n\\nPara calcular el monto máximo recomendado, multiplicamos el ingreso neto mensual por el porcentaje destinado para la hipoteca:\\n\\n2500 euros x 0.35 = 875 euros\\n\\nAhora, considerando un tipo de interés del Euribor de 0.04, podemos utilizar una calculadora de hipotecas para determinar el monto máximo recomendado. Sin embargo, necesitamos más información, como el plazo de la hipoteca y el sistema de amortización, para realizar el cálculo exacto.\\n\\nEs importante tener en cuenta que este cálculo es una estimación y se recomienda consultar con un profesional financiero o un banco para obtener una evaluación más precisa y personalizada de la capacidad de endeudamiento y las opciones de hipoteca disponibles.'"
      ]
     },
     "execution_count": 22,
     "metadata": {},
     "output_type": "execute_result"
    }
   ],
   "source": [
    "query=\"Supongamos que una persona tiene un salario neto de 2500 euros mensuales y está dispuesta a destinar hasta el 35% de sus ingresos para pagar una hipoteca, considerando el euribor actual.Teniendo en cuenta que el tipo de interés es el valor del Euribor es de 0,04 ,  ¿cuánto sería el monto máximo recomendado para la hipoteca?\"\n",
    "result = qa({\"question\": query})\n",
    "result[\"answer\"]"
   ]
  },
  {
   "cell_type": "code",
   "execution_count": 23,
   "id": "a5f44dbd",
   "metadata": {},
   "outputs": [
    {
     "data": {
      "text/plain": [
       "'Para calcular el monto máximo recomendado para la hipoteca, debemos considerar el ingreso neto mensual y la disposición de destinar hasta el 35% de los ingresos para pagarla. \\n\\nEn este caso, el ingreso neto mensual es de 2500 euros. Entonces, el 35% de los ingresos sería 2500 * 0.35 = 875 euros.\\n\\nAhora, necesitamos tener en cuenta el tipo de interés del Euribor en 12 meses en el mes 4 del año 2022, que es de -0,48.\\n\\nDado que el Euribor es negativo, esto significa que los intereses de la hipoteca también serían negativos, lo que reduce el costo total de la hipoteca.\\n\\nSin embargo, es importante tener en cuenta que el monto máximo recomendado para la hipoteca también dependerá de otros factores, como el plazo de la hipoteca, las condiciones del préstamo y las políticas del banco.\\n\\nEn este caso, con los datos proporcionados, podemos calcular el monto máximo recomendado para la hipoteca dividiendo el monto máximo que se puede destinar a pagar la hipoteca (875 euros) entre el tipo de interés del Euribor (-0,48):\\n\\nMonto máximo recomendado para la hipoteca = 875 euros / (-0,48) = -1822,92 euros.\\n\\nSin embargo, es importante tener en cuenta que este resultado es negativo, lo que podría indicar que los datos proporcionados no son adecuados para calcular el monto máximo recomendado para la hipoteca. También es recomendable consultar con un profesional financiero o una entidad bancaria para obtener una evaluación más precisa y personalizada de la capacidad de endeudamiento y el monto máximo recomendado para la hipoteca.'"
      ]
     },
     "execution_count": 23,
     "metadata": {},
     "output_type": "execute_result"
    }
   ],
   "source": [
    "query=\"Supongamos que una persona tiene un salario neto de 2500 euros mensuales y está dispuesta a destinar hasta el 35% de sus ingresos para pagar una hipoteca.Teniendo en cuenta que el tipo de interés es el valor del Euribor en 12 meses en el mes 4 del año 2022 =-0,48 ,  ¿cuánto sería el monto máximo recomendado para la hipoteca?\"\n",
    "result = qa({\"question\": query})\n",
    "result[\"answer\"]"
   ]
  },
  {
   "cell_type": "code",
   "execution_count": 8,
   "id": "5d0dd1ec",
   "metadata": {},
   "outputs": [
    {
     "data": {
      "text/plain": [
       "'No pose-iconemos información sobre la relación entre la edad de una pareja y su capacidad para obtener una hipoteca, ni sobre cómo afectaría la edad al plazo máximo del préstamo o a las tasas de interés ofrecidas por el banco. Este es un asunto que podría ser determinado por las políticas del banco y las regulaciones hipotecarias en su país, por lo que te recomiendo que consultes directatementeo al banco o a un asesor financiero para obtener información más precisa sobre tu situación específica.'"
      ]
     },
     "execution_count": 8,
     "metadata": {},
     "output_type": "execute_result"
    }
   ],
   "source": [
    "query=\"¿Cómo afectaría la edad de una pareja, ambos de 68 años, que busca una hipoteca de 150,000 euros con una pensión mensual de 4000 euros, al plazo máximo del préstamo y a las tasas de interés ofrecidas por el banco, considerando la política que limita los préstamos a 15 años para solicitantes de 60 años o más?\"\n",
    "result = qa({\"question\": query})\n",
    "result[\"answer\"]"
   ]
  },
  {
   "cell_type": "code",
   "execution_count": 27,
   "id": "d2a0eec8",
   "metadata": {},
   "outputs": [
    {
     "data": {
      "text/plain": [
       "'La política del banco de limitar los préstamos a 15 años para solicitantes de 60 años o más afectaría directamente el plazo máximo del préstamo para esta pareja. Dado que ambos tienen 68 años, el plazo máximo que podrían obtener sería de 15 años.\\n\\nEn cuanto a las tasas de interés ofrecidas por el banco, el Euribor a 12 meses no está proporcionando información suficiente para determinar las tasas de interés específicas que se ofrecerían a esta pareja. Se necesitaría más información sobre las políticas y tasas de interés del banco en particular.\\n\\nEs importante tener en cuenta que estos datos son solo hipotéticos y que las tasas de interés y políticas pueden variar según el banco y la situación individual de cada cliente.'"
      ]
     },
     "execution_count": 27,
     "metadata": {},
     "output_type": "execute_result"
    }
   ],
   "source": [
    "query=\"¿Cómo afectaría la edad de una pareja, ambos de 68 años, que busca una hipoteca de 150,000 euros con una pensión mensual de 4000 euros, al plazo máximo del préstamo y a las tasas de interés ofrecidas por el banco, considerando la política que limita los préstamos a 15 años para solicitantes de 60 años o más, sabiendo que el valor actual del Euribor a 12 meses es de 4.16%?\"\n",
    "result = qa({\"question\": query})\n",
    "result[\"answer\"]"
   ]
  },
  {
   "cell_type": "code",
   "execution_count": 11,
   "id": "826da74a",
   "metadata": {},
   "outputs": [
    {
     "data": {
      "text/plain": [
       "'No es posible calcular el monto máximo de la hipoteca o la mensualidad a pagar con los datos provistos sobre salarios e ingresos brutos. Este cálculo requeriría conocer más datos financieros y especificaciones de la institución crediticia involucrada para determinar exactamente cuál sería el monto máximo de la hipoteca y la cuota mensual.'"
      ]
     },
     "execution_count": 11,
     "metadata": {},
     "output_type": "execute_result"
    }
   ],
   "source": [
    "query=\"Supongamos que el banco ofrece una atractiva tasa de interés del 2.6% para préstamos hipotecarios. En este escenario, considerando a una pareja de 35 y 40 años con ingresos brutos mensuales de 3200 y 1800 euros respectivamente, ambos con contratos indefinidos y dos hijos menores de 18 años, y aplicando la tasa de riesgo hipotecario del 28% del salario mensual, ¿cuál sería el monto máximo de la hipoteca que podrían obtener para comprar una propiedad de 200,000 euros y cuánto sería la mensualidad a pagar?\"\n",
    "result = qa({\"question\": query})\n",
    "result[\"answer\"]"
   ]
  },
  {
   "cell_type": "code",
   "execution_count": 12,
   "id": "b04995db",
   "metadata": {},
   "outputs": [
    {
     "data": {
      "text/plain": [
       "'La edad y los ingresos de la pareja no influirían directamente en la elección del plazo del préstamo, ya que esto depende más de sus preferencias personales y capacidad de ahorro. Sin embargo, es importante considerar el plazo del préstamo en función de la edad de la pareja, para asegurarse de que puedan pagar el préstamo antes de la jubilación.\\n\\nPara determinar la mensualidad que podrían asumir cómodamente, es necesario evaluar la capacidad de endeudamiento de la pareja. Para calcular esto, se pueden considerar sus ingresos, gastos mensuales y la tasa de riesgo hipotecario.\\n\\nTomando en cuenta los ingresos brutos mensuales de 3500 y 2000 euros respectivamente, y asumiendo que no tienen otras deudas importantes, podemos calcular su capacidad de endeudamiento dentro del umbral de riesgo hipotecario indicado del 30%.\\n\\nLa suma de los ingresos mensuales de la pareja es de 5500 euros. El 30% de este monto equivale a 1650 euros (el monto máximo recomendado para destinar a la cuota hipotecaria mensual). Teniendo en cuenta la tasa de interés del 3.2% y el préstamo de 250,000 euros, puedes utilizar una calculadora de préstamos hipotecarios para determinar el plazo adecuada para alcanzar una mensualidad de alrededor de 1650 euros. Esto dependerá de las condiciones específicas del préstamo ofrecido por la entidad financiera.\\n\\nRecuerda que este cálculo solo representa una aproximación y que deberías contactar con un profesional financiero para recibir asesoramiento personalizado. Además, considera que estos ingresos brutos son solo indications y otros factores personales pueden influir en la aprobación de un préstamo.'"
      ]
     },
     "execution_count": 12,
     "metadata": {},
     "output_type": "execute_result"
    }
   ],
   "source": [
    "query=\"Supongamos una tasa de interés del 3.2%. Para una pareja de 45 y 50 años con ingresos brutos mensuales de 3500 y 2000 euros respectivamente, ambos con contratos indefinidos, dos hijos menores de 18 años, y una tasa de riesgo hipotecario del 30% del salario mensual. Considerando que la pareja busca una hipoteca de 250,000 euros, ¿cómo influiría la edad en la elección del plazo del préstamo y en la mensualidad que podrían asumir cómodamente?\"\n",
    "result = qa({\"question\": query})\n",
    "result[\"answer\"]"
   ]
  },
  {
   "cell_type": "code",
   "execution_count": 13,
   "id": "bb99cae0",
   "metadata": {},
   "outputs": [
    {
     "data": {
      "text/plain": [
       "'No puedo obtener información externa ni proporcionar asesoramiento financiero, por lo que no puedo dar una respuesta precisa a tu pregunta. Sugiero que contactes a una entidad financiera o a un especialista en finanzas o préstamos hipotecarios para obtener la información más precisa y actualizada sobre este tipo de situaciones. Ellos podrán evaluar tus circunstancias personales y ofrecerte los mejores consejos y opciones disponibles para tu caso.'"
      ]
     },
     "execution_count": 13,
     "metadata": {},
     "output_type": "execute_result"
    }
   ],
   "source": [
    "query=\"Imagina que una persona de 35 años tiene ingresos ficticios mensuales de 3500 euros. En el pasado, esta persona tuvo problemas financieros y estuvo en un listado de morosidad. Ahora, con un historial crediticio en proceso de mejora, busca financiar una vivienda de 160,000 euros con una tasa de interés del 3%. Dado el historial crediticio en recuperación, ¿cómo podría esta mejora influir en las condiciones de la hipoteca y en las mensualidades, considerando la flexibilidad de las entidades financieras ante un historial crediticio en proceso de mejora y otros factores relevantes para la aprobación del préstamo?\"\n",
    "result = qa({\"question\": query})\n",
    "result[\"answer\"]"
   ]
  },
  {
   "cell_type": "code",
   "execution_count": 10,
   "id": "94d79719",
   "metadata": {},
   "outputs": [
    {
     "data": {
      "text/plain": [
       "'El proceso de mejora del historial crediticio puede influir positivamente en las condiciones de la hipoteca y en las mensualidades para una persona de 35 años con ingresos ficticios mensuales de 3500 euros que busca financiar una vivienda de 160,000 euros con una tasa de interés del 3%.\\n\\nSi la persona logra mejorar su historial crediticio, es probable que obtenga una calificación crediticia más favorable. Esto significa que los prestamistas considerarán que es menos riesgoso otorgarle un préstamo hipotecario y podrían ofrecerle condiciones más favorables, como una tasa de interés más baja.\\n\\nUna tasa de interés más baja significa que los intereses que se pagarán a lo largo del préstamo serán menores, lo que puede reducir el costo total de la hipoteca. Además, una tasa de interés más baja también puede resultar en mensualidades más bajas, lo que facilitaría el pago mensual de la hipoteca.\\n\\nSin embargo, es importante tener en cuenta que la mejora del historial crediticio no es el único factor que los prestamistas consideran al otorgar una hipoteca. También evaluarán otros aspectos, como los ingresos, la estabilidad laboral, el monto del préstamo en relación con el valor de la vivienda y la capacidad de pago del solicitante.\\n\\nPor lo tanto, aunque mejorar el historial crediticio puede ser beneficioso, es recomendable también tener en cuenta otros factores y buscar asesoramiento financiero profesional para obtener una evaluación más precisa de las condiciones de la hipoteca y las mensualidades en base a la situación financiera personal.'"
      ]
     },
     "execution_count": 10,
     "metadata": {},
     "output_type": "execute_result"
    }
   ],
   "source": [
    "query=\"Imagina que una persona de 35 años tiene ingresos ficticios mensuales de 3500 euros. En el pasado, esta persona tuvo problemas financieros y estuvo en un listado de morosidad. Ahora, con un historial crediticio en proceso de mejora, busca financiar una vivienda de 160,000 euros con una tasa de interés del 3%. Dado que esta persona está trabajando activamente en mejorar su historial crediticio, ¿cómo podría este proceso de mejora influir en las condiciones de la hipoteca y en las mensualidades?\"\n",
    "result = qa({\"question\": query})\n",
    "result[\"answer\"]"
   ]
  },
  {
   "cell_type": "code",
   "execution_count": 17,
   "id": "1040fdf1",
   "metadata": {},
   "outputs": [
    {
     "data": {
      "text/plain": [
       "'No puedo proporcionar una respuesta específica sobre cómo podría influir el proceso de mejora del historial crediticio en las condiciones de la hipoteca y en las mensualidades en esa situación específica. Diversos factores, como el historial crediticio, el monto del préstamo, los ingresos y la política de cada entidad financiera, pueden afectar las condiciones y términos de una hipoteca. Lo mejor es consultar con un asesor financiero o directamente con las entidades financieras para obtener información precisa y personalizada sobre cómo pueden mejorar las condiciones de la hipoteca en función del historial crediticio y otros factores relevantes.'"
      ]
     },
     "execution_count": 17,
     "metadata": {},
     "output_type": "execute_result"
    }
   ],
   "source": [
    "query=\"Imagina que una persona de 35 años tiene ingresos ficticios mensuales de 3500 euros. En el pasado, esta persona tuvo problemas financieros y estuvo en un listado de morosidad. Ahora, con un historial crediticio en proceso de mejora, busca financiar una vivienda de 160,000 euros con una tasa de interés del 3%. Dado que esta persona está trabajando activamente en mejorar su historial crediticio, ¿cómo podría este proceso de mejora influir en las condiciones de la hipoteca y en las mensualidades, considerando la flexibilidad de las entidades financieras ante un historial crediticio en proceso de mejora y otros factores relevantes para la aprobación del préstamo? Ten en cuenta que los detalles precisos pueden variar según las políticas específicas de las entidades financieras y otros factores financieros individuales.\"\n",
    "result = qa({\"question\": query})\n",
    "result[\"answer\"]"
   ]
  },
  {
   "cell_type": "code",
   "execution_count": 16,
   "id": "76b458c9",
   "metadata": {},
   "outputs": [
    {
     "data": {
      "text/plain": [
       "'Lo siento, pero no puedo responder a esa pregunta.'"
      ]
     },
     "execution_count": 16,
     "metadata": {},
     "output_type": "execute_result"
    }
   ],
   "source": [
    "query=\"Imagina que estás brindando asesoramiento a una persona de 40 años con ingresos ficticios mensuales de 4200 euros. Esta persona ha experimentado problemas de morosidad en el pasado pero ha trabajado diligentemente para mejorar su historial crediticio. Actualmente, está buscando financiar una propiedad de 200,000 euros con una tasa de interés del 3.2%. Considerando la mejora en su historial crediticio, ¿podrías indicar cómo esta mejora específica podría afectar las condiciones de la hipoteca y las mensualidades? ¿Existen patrones comunes o consideraciones que las entidades financieras suelen tener en cuenta al evaluar la solicitud de préstamos en situaciones similares? \"\n",
    "result = qa({\"question\": query})\n",
    "result[\"answer\"]"
   ]
  },
  {
   "cell_type": "code",
   "execution_count": 15,
   "id": "b20e11ff",
   "metadata": {},
   "outputs": [
    {
     "data": {
      "text/plain": [
       "'No tengo información sobre el historial crediticio de esta persona en los datos proporcionados. Para determinar cómo podría afectar su historial crediticio al proceso de aprobación y a las tasas de interés ofrecidas para una hipoteca, necesitaríamos conocer su historial crediticio completo, incluyendo su puntaje crediticio, el historial de pagos, la deuda existente y otra información relevante. Recuerda que el historial y la situación crediticia de una persona son aspectos cruciales que los prestamistas evalúan al otorgar préstamos hipotecarios, por lo tanto, las tasas de interés y la aprobación de la hipoteca pueden variar dependiendo de ese factor.'"
      ]
     },
     "execution_count": 15,
     "metadata": {},
     "output_type": "execute_result"
    }
   ],
   "source": [
    "query=\"Supongamos que una persona de 35 años, con ingresos mensuales ficticios de 3800 euros, busca una hipoteca para una propiedad de 180,000 euros con una tasa de interés del 3%. ¿Cómo podría afectar su historial crediticio al proceso de aprobación y a las tasas de interés ofrecidas?\"\n",
    "result = qa({\"question\": query})\n",
    "result[\"answer\"]"
   ]
  },
  {
   "cell_type": "code",
   "execution_count": 14,
   "id": "2fd71240",
   "metadata": {},
   "outputs": [
    {
     "data": {
      "text/plain": [
       "'Basado en los datos proporcionados, no hay información específica sobre el puntaje crediticio, historial de pagos y deuda existente de esta persona. Por lo tanto, no podemos determinar cómo podrían influir en la probabilidad de aprobación de una hipoteca y las tasas de interés ofrecidas por los prestamistas. Además, no se menciona ninguna acción específica que esta persona podría tomar para mejorar sus posibilidades en el proceso hipotecario.'"
      ]
     },
     "execution_count": 14,
     "metadata": {},
     "output_type": "execute_result"
    }
   ],
   "source": [
    "query=\"Imagina que una persona de 35 años, con ingresos mensuales ficticios de 3800 euros, ha enfrentado desafíos financieros en el pasado y actualmente tiene un puntaje crediticio en proceso de mejora, situado en 650. Esta persona también tiene un historial de pagos pasados con algunos retrasos menores y una deuda existente de 15,000 euros. Está trabajando activamente para mejorar su historial crediticio y busca obtener una hipoteca para una propiedad de 180,000 euros con una tasa de interés del 3%. Dada la situación específica del puntaje crediticio, historial de pagos y deuda existente, ¿cómo podrían estos factores influir en la probabilidad de aprobación de la hipoteca y las tasas de interés ofrecidas por los prestamistas? ¿Existen acciones específicas, basadas en estos datos, que esta persona podría tomar para mejorar sus posibilidades en este proceso?\"\n",
    "result = qa({\"question\": query})\n",
    "result[\"answer\"]"
   ]
  },
  {
   "cell_type": "code",
   "execution_count": 13,
   "id": "44361fe1",
   "metadata": {},
   "outputs": [
    {
     "data": {
      "text/plain": [
       "'No es posible determinar cómo influye la condición de ser funcionario y tener ingresos estables en la política de una entidad financiera con respecto a la aportación inicial y el porcentaje financiado solo con la información proporcionada. La política de cada entidad financiera puede variar y dependerá de diferentes factores, como las políticas de riesgo, las políticas y requisitos de préstamos, las condiciones económicas, etc. Para obtener información precisa sobre las políticas de una entidad financiera en particular, se recomienda contactar directamente con la institución financiera de interés.'"
      ]
     },
     "execution_count": 13,
     "metadata": {},
     "output_type": "execute_result"
    }
   ],
   "source": [
    "query=\"Supongamos que una persona de 40 años, funcionario con ingresos estables, está buscando financiamiento para adquirir una propiedad. Dado que los funcionarios a menudo son considerados más solventes, ¿cómo podría esta condición influir en la política de la entidad financiera en cuanto a la aportación inicial y el porcentaje financiado?\"\n",
    "result = qa({\"question\": query})\n",
    "result[\"answer\"]"
   ]
  },
  {
   "cell_type": "code",
   "execution_count": 12,
   "id": "ad5cf8c6",
   "metadata": {},
   "outputs": [
    {
     "data": {
      "text/plain": [
       "'La capacidad de ahorro inicial de la pareja puede influir en las condiciones de la hipoteca y en las mensualidades de varias formas:\\n\\n1. Enganche inicial mayor: Si la pareja tiene una capacidad de ahorro inicial mayor, podrían realizar un enganche mayor al momento de solicitar la hipoteca. Esto implicaría pedir menos dinero prestado y podría resultar en una tasa de interés más baja y en una financiación más favorable por parte de la entidad financiera.\\n\\n2. Mayor apalancamiento: Si la pareja tiene una capacidad de ahorro inicial considerable, podrían optar por financiar una menor cantidad del precio de la vivienda, lo que implicaría un menor porcentaje de financiación. Esto también puede beneficiar a la pareja en términos de tasas de interés más bajas y condiciones de pago más favorables.\\n\\n3. Mayor solvencia: La capacidad de ahorro inicial de la pareja también puede demostrar solvencia a la entidad financiera. Si la pareja muestra un historial de ahorro consistente y una suma considerable de dinero ahorrado, esto puede aumentar su perfil crediticio y llevar a que la entidad financiera les ofrezca condiciones más favorables en términos de tasas de interés y plazos de pagos más largos.\\n\\nEs importante tener en cuenta que la capacidad de ahorro inicial no es el único factor que las entidades financieras consideran al otorgar una hipoteca. Otros factores como el historial crediticio, los ingresos mensuales, la estabilidad laboral y la relación deuda-ingresos también son importantes. Cada entidad financiera tendrá sus propios criterios y políticas para evaluar la capacidad de endeudamiento de los solicitantes de la hipoteca. Por lo tanto, es recomendable comparar las ofertas de diferentes entidades financieras para obtener las mejores condiciones.'"
      ]
     },
     "execution_count": 12,
     "metadata": {},
     "output_type": "execute_result"
    }
   ],
   "source": [
    "query=\"Supongamos que una pareja, ambos de 35 años, ha estado ahorrando diligentemente y puede aportar inicialmente el 30% del valor de una casa de 220,000 euros. Con ingresos conjuntos ficticios de 6000 euros al mes y una tasa de interés del 2.7%, están buscando una hipoteca. Dado que las financieras suelen financiar hasta el 80% del valor de tasación, ¿cómo podría su capacidad de ahorro inicial influir en las condiciones de la hipoteca y en las mensualidades, considerando la flexibilidad por el porcentaje inicial mayor y otros factores relevantes que deba tener en cuenta la entidad financiera?\"\n",
    "result = qa({\"question\": query})\n",
    "result[\"answer\"]"
   ]
  },
  {
   "cell_type": "code",
   "execution_count": 7,
   "id": "8237f251",
   "metadata": {},
   "outputs": [
    {
     "data": {
      "text/plain": [
       "'Para saber cuánto tendrían que aportar inicialmente para la hipoteca, necesitamos calcular el 20% del valor de tasación de la vivienda.\\n\\n20% de 220,000 euros = 44,000 euros\\n\\nEntonces, tendrían que aportar inicialmente 44,000 euros para la hipoteca, considerando la financiación del 80% del valor de tasación y sin tener en cuenta la posible flexibilidad de las entidades financieras. Sin embargo, cabe destacar que la flexibilidad ofrecida por las entidades puede variar y es importante realizar consultas directamente con ellas para conocer las condiciones específicas y tener un cálculo más preciso.'"
      ]
     },
     "execution_count": 7,
     "metadata": {},
     "output_type": "execute_result"
    }
   ],
   "source": [
    "query=\"Imagina que una pareja joven, ambos de 28 años, tiene ingresos conjuntos ficticios de 4500 euros al mes. Están buscando financiar una vivienda valorada en 220,000 euros con una tasa de interés del 2.5%. Dado que las financieras suelen financiar hasta el 80% del valor de tasación, ¿cuánto tendrían que aportar inicialmente para la hipoteca, considerando la flexibilidad que algunas entidades financieras pueden ofrecer a aquellos con ingresos estables y elevados?\"\n",
    "result = qa({\"question\": query})\n",
    "result[\"answer\"]"
   ]
  },
  {
   "cell_type": "code",
   "execution_count": 17,
   "id": "d240dcf5-478f-43b8-9307-a31cc1f4c3aa",
   "metadata": {},
   "outputs": [
    {
     "data": {
      "text/plain": [
       "'No se puede determinar si Pepe Ortiz Pérez puede comprar una casa de 400,000 euros siguiendo las recomendaciones del Banco de España con la información proporcionada. No hay datos sobre los ingresos, ahorros o capacidad de endeudamiento de Pepe Ortiz Pérez. Estos factores son fundamentales para determinar si alguien puede comprar una casa según las recomendaciones del Banco de España.'"
      ]
     },
     "execution_count": 17,
     "metadata": {},
     "output_type": "execute_result"
    }
   ],
   "source": [
    "query = \"Pepe Ortiz Pérez quiere comprarse una casa mediante una hipoteca. Una hipoteca se paga durante un número de años, todos los meses. Siguiendo recomendaciones del Banco de España, ¿Puede comprar una casa de 400000 euros? ¿Por qué?\"\n",
    "result = qa({\"question\": query})\n",
    "result[\"answer\"]"
   ]
  },
  {
   "cell_type": "code",
   "execution_count": 29,
   "id": "b43178ec-ad11-4372-b798-98a2134695ad",
   "metadata": {},
   "outputs": [
    {
     "data": {
      "text/plain": [
       "'El resultado de dividir 400,000 euros entre 360 meses es 1,111.11 euros por mes.'"
      ]
     },
     "execution_count": 29,
     "metadata": {},
     "output_type": "execute_result"
    }
   ],
   "source": [
    "query = \"La casa que quiero vale 400000 euros. ¿Cuál es el resultado de dividir ese precio entre 360 meses?\"\n",
    "result = qa({\"question\": query})\n",
    "result[\"answer\"]"
   ]
  },
  {
   "cell_type": "code",
   "execution_count": 30,
   "id": "868e3b07-ccf1-4676-8c0d-612e4c014949",
   "metadata": {},
   "outputs": [
    {
     "data": {
      "text/plain": [
       "'El Banco de España no ha proporcionado una recomendación específica sobre cuánto dinero se debe destinar como máximo al pago de la casa basado en un salario neto mensual de 2000 euros. Sin embargo, generalmente se sugiere que el costo de la vivienda no supere el 30-40% del ingreso mensual neto. Por lo tanto, en este caso, se recomendaría destinar entre 600 y 800 euros mensuales al pago de la casa.'"
      ]
     },
     "execution_count": 30,
     "metadata": {},
     "output_type": "execute_result"
    }
   ],
   "source": [
    "query = \"Sé lo que pago al mes por la casa. Mi salario neto mensual es de 2000 euros. El Banco de España recomienda que pague por la casa menos del 30% del salario. ¿Se cumple recomendación?\"\n",
    "result = qa({\"question\": query})\n",
    "result[\"answer\"]"
   ]
  },
  {
   "cell_type": "code",
   "execution_count": 47,
   "id": "19636c8d-e373-49fa-9cdb-2ac0c88cb4c7",
   "metadata": {},
   "outputs": [
    {
     "data": {
      "text/plain": [
       "'No puedo determinar si estás pagando más del 30% de tu salario neto mensual solo con la información proporcionada. Necesitaría conocer el monto exacto de tu salario neto mensual para realizar el cálculo.'"
      ]
     },
     "execution_count": 47,
     "metadata": {},
     "output_type": "execute_result"
    }
   ],
   "source": [
    "query = \"Si pago al mes 1111.11 euros, entonces pago por la casa un valor mayor que el 30% de mi salario neto mensual de 2000 euros.\"\n",
    "result = qa({\"question\": query})\n",
    "result[\"answer\"]"
   ]
  },
  {
   "cell_type": "code",
   "execution_count": 50,
   "id": "653334fd",
   "metadata": {},
   "outputs": [
    {
     "data": {
      "text/plain": [
       "'No puedo determinar si estás pagando más del 30% de tu salario neto mensual por la casa, ya que no tengo información sobre tu salario neto mensual.'"
      ]
     },
     "execution_count": 50,
     "metadata": {},
     "output_type": "execute_result"
    }
   ],
   "source": [
    "query = \"Mi salario neto mensual es de 2000 euros. Si pago al mes 1111.11 euros, entonces pago por la casa un valor mayor que el 30% de mi salario neto mensual.\"\n",
    "result = qa({\"question\": query})\n",
    "result[\"answer\"]"
   ]
  },
  {
   "cell_type": "code",
   "execution_count": 51,
   "id": "471b37ef",
   "metadata": {},
   "outputs": [
    {
     "data": {
      "text/plain": [
       "'No puedo determinar si estás pagando más del 30% de tu salario neto mensual de 2000 euros basándome en la información proporcionada.'"
      ]
     },
     "execution_count": 51,
     "metadata": {},
     "output_type": "execute_result"
    }
   ],
   "source": [
    "query = \"Mi salario neto mensual es de 2000 euros. Si pago al mes 1111.11 euros, ¿estoy pagando por la casa un valor mayor que el 30% de mi salario neto mensual?\"\n",
    "result = qa({\"question\": query})\n",
    "result[\"answer\"]"
   ]
  },
  {
   "cell_type": "code",
   "execution_count": 56,
   "id": "22c95528",
   "metadata": {},
   "outputs": [
    {
     "data": {
      "text/plain": [
       "'No puedo responder a esa pregunta basándome en la información proporcionada.'"
      ]
     },
     "execution_count": 56,
     "metadata": {},
     "output_type": "execute_result"
    }
   ],
   "source": [
    "query = \"Si pago al mes 1111.11 euros de hipoteca. Mi salario neto mensual es de 2000 euros, teniendo en cuenta que no tengo otros gastos financieros, ni obligaciones, ¿estoy pagando por la casa un valor mayor que el 30% de mi salario neto mensual?\"\n",
    "result = qa({\"question\": query})\n",
    "result[\"answer\"]"
   ]
  },
  {
   "cell_type": "code",
   "execution_count": 62,
   "id": "c3da968c",
   "metadata": {},
   "outputs": [
    {
     "data": {
      "text/plain": [
       "'Para calcular el monto máximo recomendado para una hipoteca, se puede utilizar la regla general que establece destinar hasta el 35% de los ingresos netos mensuales al pago de la hipoteca. En este caso, si la persona tiene un salario neto de 2500 euros mensuales, el cálculo sería el siguiente:\\n\\nMonto máximo recomendado para la hipoteca = 2500 euros * 35% = 875 euros\\n\\nSin embargo, es importante tener en cuenta que este cálculo es solo una recomendación general y puede variar según las circunstancias individuales de cada persona, como sus gastos mensuales, deudas existentes, historial crediticio, entre otros factores. Además, el tipo de interés del euribor de -0,48 también puede influir en el monto máximo recomendado, ya que un tipo de interés negativo puede resultar en cuotas mensuales más bajas. Se recomienda consultar con un asesor financiero o hipotecario para obtener una recomendación más precisa y adecuada a la situación personal.'"
      ]
     },
     "execution_count": 62,
     "metadata": {},
     "output_type": "execute_result"
    }
   ],
   "source": [
    "query = \"Supongamos que una persona tiene un salario neto de 2500 euros mensuales y está dispuesta a destinar hasta el 35% de sus ingresos para pagar una hipoteca.Teniendo en cuenta que el tipo de interés es el valor del euribor que es =-0,48, ¿cuánto sería el monto máximo recomendado para la hipoteca?\"\n",
    "result = qa({\"question\": query})\n",
    "result[\"answer\"]"
   ]
  },
  {
   "cell_type": "code",
   "execution_count": 65,
   "id": "2966042a",
   "metadata": {},
   "outputs": [
    {
     "data": {
      "text/plain": [
       "'La información proporcionada no contiene datos relevantes para determinar cómo podría influir la edad de la pareja en la decisión del banco y en las tasas de interés proporcionadas para una hipoteca de 150,000 euros. No se menciona la edad de la pareja ni ningún otro factor relacionado con las políticas bancarias y las tasas de interés. Por lo tanto, no se puede proporcionar una respuesta precisa a esta pregunta.'"
      ]
     },
     "execution_count": 65,
     "metadata": {},
     "output_type": "execute_result"
    }
   ],
   "source": [
    "query = \"Una pareja, ambos con 68 años, está buscando financiamiento hipotecario. Su principal fuente de ingresos proviene de una pensión con un importe mensual de 4000 euros. Están interesados en solicitar una hipoteca para comprar una propiedad y desean conocer cómo podrían afectar sus edades combinadas a la aprobación de la hipoteca y a las tasas de interés ofrecidas por el banco. Sabiendo que existen políticas bancarias que dicen que el solicitante tiene 60 años, no podrá pedir un préstamo con un plazo superior a 15 años. Supongamos que están buscando una hipoteca de 150,000 euros y que el tipo de interés aplicado es el valor del Euribor en 12 meses en el mes 4 del año 2022. ¿Cómo podría influir la edad de la pareja en la decisión del banco y en las tasas de interés proporcionadas?\"\n",
    "result = qa({\"question\": query})\n",
    "result[\"answer\"]"
   ]
  },
  {
   "cell_type": "code",
   "execution_count": 83,
   "id": "f3fab314",
   "metadata": {},
   "outputs": [
    {
     "data": {
      "text/plain": [
       "'No puedo responder a esa pregunta basándome en el texto proporcionado.'"
      ]
     },
     "execution_count": 83,
     "metadata": {},
     "output_type": "execute_result"
    }
   ],
   "source": [
    "query = \"¿Dado que la política del banco limita los préstamos a 15 años para solicitantes de 60 años o más, ¿cómo podría la capacidad de ahorro mensual de la pareja influir en la cantidad que pueden destinar al pago de la hipoteca sin comprometer su estabilidad financiera?\"\n",
    "result = qa({\"question\": query})\n",
    "result[\"answer\"]"
   ]
  },
  {
   "cell_type": "code",
   "execution_count": 85,
   "id": "54259845",
   "metadata": {},
   "outputs": [
    {
     "data": {
      "text/plain": [
       "'Según la política del banco que limita los préstamos a 15 años para solicitantes de 60 años o más, la edad de la pareja de 68 años afectaría el plazo máximo del préstamo. Esto significa que el plazo máximo del préstamo sería de 15 años.\\n\\nEn cuanto a las tasas de interés ofrecidas por el banco, no se puede determinar con certeza cómo afectaría la edad de la pareja. Sin embargo, es posible que la edad avanzada de la pareja pueda influir en las tasas de interés ofrecidas por el banco, ya que los bancos consideran el riesgo de impago asociado con la edad y la capacidad de pago a largo plazo.\\n\\nEs importante tener en cuenta que las tasas de interés pueden variar y dependen de varios factores, como la política del banco, la situación financiera de la pareja y las condiciones del mercado. Por lo tanto, es recomendable que la pareja se ponga en contacto con el banco para obtener información precisa sobre las tasas de interés ofrecidas en su situación específica.'"
      ]
     },
     "execution_count": 85,
     "metadata": {},
     "output_type": "execute_result"
    }
   ],
   "source": [
    "query = \"Una pareja, ambos con edad 68 años, está buscando financiamiento hipotecario. Su principal fuente de ingresos proviene de una pensión con un importe mensual de 4000 euros.¿Cómo afectaría la edad de una pareja, ambos de 68 años, que busca una hipoteca de 150,000 euros con una pensión mensual de 4000 euros, al plazo máximo del préstamo y a las tasas de interés ofrecidas por el banco, considerando la política que limita los préstamos a 15 años para solicitantes de 60 años o más, sabiendo que el valor actual del Euribor a 12 meses es de 4.16%?\"\n",
    "result = qa({\"question\": query})\n",
    "result[\"answer\"]"
   ]
  },
  {
   "cell_type": "code",
   "execution_count": 112,
   "id": "f329bf51",
   "metadata": {},
   "outputs": [
    {
     "data": {
      "text/plain": [
       "'No puedo responder a esa pregunta con la información proporcionada.'"
      ]
     },
     "execution_count": 112,
     "metadata": {},
     "output_type": "execute_result"
    }
   ],
   "source": [
    "query= \"Imagina que una persona de 35 años tiene ingresos ficticios mensuales de 3500 euros. En el pasado, esta persona tuvo problemas financieros y estuvo en un listado de morosidad. Ahora, con un historial crediticio en proceso de mejora, busca financiar una vivienda de 160,000 euros con una tasa de interés del 3%. Dado el historial crediticio en recuperación, ¿cómo podría esta mejora influir en las condiciones de la hipoteca y en las mensualidades, considerando la flexibilidad de las entidades financieras ante un historial crediticio en proceso de mejora y otros factores relevantes para la aprobación del préstamo?\"\n",
    "result = qa({\"question\": query})\n",
    "result[\"answer\"]"
   ]
  },
  {
   "cell_type": "code",
   "execution_count": 137,
   "id": "73564ee5",
   "metadata": {},
   "outputs": [
    {
     "data": {
      "text/plain": [
       "'No puedo determinar la probabilidad de aprobación de la hipoteca y las tasas de interés ofrecidas por los prestamistas basándome en la información proporcionada. Además, no tengo acceso a la situación crediticia de esta persona, como el puntaje crediticio, el historial de pagos y la deuda existente. \\n\\nSin embargo, en general, estos factores suelen influir en la decisión de los prestamistas. Un buen puntaje crediticio, un historial de pagos sólido y una deuda baja pueden aumentar las posibilidades de aprobación de la hipoteca y obtener tasas de interés favorables. \\n\\nSi esta persona desea mejorar sus posibilidades en el proceso de solicitud de hipoteca, algunas acciones que podría considerar son:\\n\\n1. Mantener un buen historial de pagos: Pagar todas las facturas a tiempo y evitar retrasos o incumplimientos de pagos.\\n\\n2. Reducir la deuda existente: Pagar las deudas pendientes y mantener un bajo nivel de endeudamiento puede mejorar la situación crediticia.\\n\\n3. Mejorar el puntaje crediticio: Esto se puede lograr mediante el pago puntual de las deudas, mantener un bajo nivel de utilización del crédito y revisar regularmente el informe de crédito para corregir posibles errores.\\n\\n4. Ahorrar para un pago inicial más grande: Un pago inicial más grande puede reducir el monto del préstamo y mejorar las posibilidades de aprobación.\\n\\nEs importante tener en cuenta que estos son solo consejos generales y cada situación es única. Recomendaría que esta persona consulte con un asesor financiero o un especialista en hipotecas para obtener una evaluación más precisa de su situación y recibir recomendaciones personalizadas.'"
      ]
     },
     "execution_count": 137,
     "metadata": {},
     "output_type": "execute_result"
    }
   ],
   "source": [
    "query=\"Imagina que una persona de 35 años, con ingresos mensuales ficticios de 3800 euros, ha enfrentado desafíos financieros en el pasado y actualmente tiene un puntaje crediticio en proceso de mejora, situado en 650. Esta persona también tiene un historial de pagos pasados con algunos retrasos menores y una deuda existente de 15,000 euros. Está trabajando activamente para mejorar su historial crediticio y busca obtener una hipoteca para una propiedad de 180,000 euros con una tasa de interés del 3%. Dada la situación específica del puntaje crediticio, historial de pagos y deuda existente, ¿cómo podrían estos factores influir en la probabilidad de aprobación de la hipoteca y las tasas de interés ofrecidas por los prestamistas? ¿Existen acciones específicas, basadas en estos datos, que esta persona podría tomar para mejorar sus posibilidades en este proceso?\"\n",
    "result = qa({\"question\": query})\n",
    "result[\"answer\"]"
   ]
  }
 ],
 "metadata": {
  "kernelspec": {
   "display_name": "Python 3 (ipykernel)",
   "language": "python",
   "name": "python3"
  },
  "language_info": {
   "codemirror_mode": {
    "name": "ipython",
    "version": 3
   },
   "file_extension": ".py",
   "mimetype": "text/x-python",
   "name": "python",
   "nbconvert_exporter": "python",
   "pygments_lexer": "ipython3",
   "version": "3.11.5"
  }
 },
 "nbformat": 4,
 "nbformat_minor": 5
}
